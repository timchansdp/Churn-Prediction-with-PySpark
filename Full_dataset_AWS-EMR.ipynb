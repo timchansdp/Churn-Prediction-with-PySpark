{
 "cells": [
  {
   "cell_type": "markdown",
   "id": "a6755a51",
   "metadata": {},
   "source": [
    "# **Part 1: Preparation** "
   ]
  },
  {
   "cell_type": "markdown",
   "id": "95ce1788",
   "metadata": {},
   "source": [
    "## 1.1_Configure workspaces"
   ]
  },
  {
   "cell_type": "code",
   "execution_count": 1,
   "id": "062ff95a",
   "metadata": {},
   "outputs": [
    {
     "data": {
      "application/vnd.jupyter.widget-view+json": {
       "model_id": "41b879bb2814422ea2a0ae3a4adf9638",
       "version_major": 2,
       "version_minor": 0
      },
      "text/plain": [
       "VBox()"
      ]
     },
     "metadata": {},
     "output_type": "display_data"
    },
    {
     "name": "stdout",
     "output_type": "stream",
     "text": [
      "Starting Spark application\n"
     ]
    },
    {
     "data": {
      "text/html": [
       "<table>\n",
       "<tr><th>ID</th><th>YARN Application ID</th><th>Kind</th><th>State</th><th>Spark UI</th><th>Driver log</th><th>Current session?</th></tr><tr><td>8</td><td>application_1638450968632_0009</td><td>pyspark</td><td>idle</td><td><a target=\"_blank\" href=\"http://ip-172-31-34-249.us-east-2.compute.internal:20888/proxy/application_1638450968632_0009/\">Link</a></td><td><a target=\"_blank\" href=\"http://ip-172-31-36-103.us-east-2.compute.internal:8042/node/containerlogs/container_1638450968632_0009_01_000001/livy\">Link</a></td><td>✔</td></tr></table>"
      ],
      "text/plain": [
       "<IPython.core.display.HTML object>"
      ]
     },
     "metadata": {},
     "output_type": "display_data"
    },
    {
     "data": {
      "application/vnd.jupyter.widget-view+json": {
       "model_id": "",
       "version_major": 2,
       "version_minor": 0
      },
      "text/plain": [
       "FloatProgress(value=0.0, bar_style='info', description='Progress:', layout=Layout(height='25px', width='50%'),…"
      ]
     },
     "metadata": {},
     "output_type": "display_data"
    },
    {
     "name": "stdout",
     "output_type": "stream",
     "text": [
      "SparkSession available as 'spark'.\n"
     ]
    },
    {
     "data": {
      "application/vnd.jupyter.widget-view+json": {
       "model_id": "",
       "version_major": 2,
       "version_minor": 0
      },
      "text/plain": [
       "FloatProgress(value=0.0, bar_style='info', description='Progress:', layout=Layout(height='25px', width='50%'),…"
      ]
     },
     "metadata": {},
     "output_type": "display_data"
    }
   ],
   "source": [
    "# import libraries\n",
    "from pyspark.sql import SparkSession\n",
    "# Create spark session\n",
    "spark = SparkSession \\\n",
    "        .builder \\\n",
    "        .appName(\"Sparkify\") \\\n",
    "        .getOrCreate()"
   ]
  },
  {
   "cell_type": "code",
   "execution_count": 2,
   "id": "7f96288f",
   "metadata": {},
   "outputs": [
    {
     "name": "stdout",
     "output_type": "stream",
     "text": [
      "Starting Spark application\n"
     ]
    },
    {
     "data": {
      "text/html": [
       "<table>\n",
       "<tr><th>ID</th><th>YARN Application ID</th><th>Kind</th><th>State</th><th>Spark UI</th><th>Driver log</th><th>Current session?</th></tr><tr><td>9</td><td>application_1638450968632_0010</td><td>pyspark</td><td>idle</td><td><a target=\"_blank\" href=\"http://ip-172-31-34-249.us-east-2.compute.internal:20888/proxy/application_1638450968632_0010/\">Link</a></td><td><a target=\"_blank\" href=\"http://ip-172-31-36-103.us-east-2.compute.internal:8042/node/containerlogs/container_1638450968632_0010_01_000001/livy\">Link</a></td><td>✔</td></tr></table>"
      ],
      "text/plain": [
       "<IPython.core.display.HTML object>"
      ]
     },
     "metadata": {},
     "output_type": "display_data"
    },
    {
     "data": {
      "application/vnd.jupyter.widget-view+json": {
       "model_id": "",
       "version_major": 2,
       "version_minor": 0
      },
      "text/plain": [
       "FloatProgress(value=0.0, bar_style='info', description='Progress:', layout=Layout(height='25px', width='50%'),…"
      ]
     },
     "metadata": {},
     "output_type": "display_data"
    },
    {
     "name": "stdout",
     "output_type": "stream",
     "text": [
      "SparkSession available as 'spark'.\n"
     ]
    },
    {
     "data": {
      "text/html": [
       "Current session configs: <tt>{'conf': {'spark.driver.memory': '10000M', 'spark.pyspark.python': 'python3', 'spark.pyspark.virtualenv.enabled': 'true', 'spark.pyspark.virtualenv.type': 'native', 'spark.pyspark.virtualenv.bin.path': '/usr/bin/virtualenv'}, 'kind': 'pyspark'}</tt><br>"
      ],
      "text/plain": [
       "<IPython.core.display.HTML object>"
      ]
     },
     "metadata": {},
     "output_type": "display_data"
    },
    {
     "data": {
      "text/html": [
       "<table>\n",
       "<tr><th>ID</th><th>YARN Application ID</th><th>Kind</th><th>State</th><th>Spark UI</th><th>Driver log</th><th>Current session?</th></tr><tr><td>9</td><td>application_1638450968632_0010</td><td>pyspark</td><td>idle</td><td><a target=\"_blank\" href=\"http://ip-172-31-34-249.us-east-2.compute.internal:20888/proxy/application_1638450968632_0010/\">Link</a></td><td><a target=\"_blank\" href=\"http://ip-172-31-36-103.us-east-2.compute.internal:8042/node/containerlogs/container_1638450968632_0010_01_000001/livy\">Link</a></td><td>✔</td></tr></table>"
      ],
      "text/plain": [
       "<IPython.core.display.HTML object>"
      ]
     },
     "metadata": {},
     "output_type": "display_data"
    }
   ],
   "source": [
    "%%configure -f\n",
    "{\n",
    "    \"conf\": {\n",
    "              \"spark.driver.memory\": \"10000M\",\n",
    "              \"spark.pyspark.python\": \"python3\",\n",
    "              \"spark.pyspark.virtualenv.enabled\": \"true\",\n",
    "              \"spark.pyspark.virtualenv.type\":\"native\",\n",
    "              \"spark.pyspark.virtualenv.bin.path\":\"/usr/bin/virtualenv\"\n",
    "    }\n",
    "}"
   ]
  },
  {
   "cell_type": "code",
   "execution_count": 3,
   "id": "ea66d482",
   "metadata": {},
   "outputs": [
    {
     "data": {
      "application/vnd.jupyter.widget-view+json": {
       "model_id": "eefd7197147c4c1f9bc2f0b16aec7327",
       "version_major": 2,
       "version_minor": 0
      },
      "text/plain": [
       "VBox()"
      ]
     },
     "metadata": {},
     "output_type": "display_data"
    },
    {
     "data": {
      "application/vnd.jupyter.widget-view+json": {
       "model_id": "",
       "version_major": 2,
       "version_minor": 0
      },
      "text/plain": [
       "FloatProgress(value=0.0, bar_style='info', description='Progress:', layout=Layout(height='25px', width='50%'),…"
      ]
     },
     "metadata": {},
     "output_type": "display_data"
    },
    {
     "name": "stdout",
     "output_type": "stream",
     "text": [
      "'10000M'"
     ]
    }
   ],
   "source": [
    "spark.sparkContext.getConf().get('spark.driver.memory')"
   ]
  },
  {
   "cell_type": "markdown",
   "id": "18a71940",
   "metadata": {},
   "source": [
    "## 1.2_import packages"
   ]
  },
  {
   "cell_type": "code",
   "execution_count": 4,
   "id": "8f52ffda",
   "metadata": {},
   "outputs": [
    {
     "data": {
      "application/vnd.jupyter.widget-view+json": {
       "model_id": "bdd657e249a1492d97cb72d1063d7a39",
       "version_major": 2,
       "version_minor": 0
      },
      "text/plain": [
       "VBox()"
      ]
     },
     "metadata": {},
     "output_type": "display_data"
    },
    {
     "data": {
      "application/vnd.jupyter.widget-view+json": {
       "model_id": "",
       "version_major": 2,
       "version_minor": 0
      },
      "text/plain": [
       "FloatProgress(value=0.0, bar_style='info', description='Progress:', layout=Layout(height='25px', width='50%'),…"
      ]
     },
     "metadata": {},
     "output_type": "display_data"
    },
    {
     "name": "stdout",
     "output_type": "stream",
     "text": [
      "Collecting pandas==0.25.1\n",
      "  Using cached pandas-0.25.1-cp36-cp36m-manylinux1_x86_64.whl (10.5 MB)\n",
      "Collecting python-dateutil>=2.6.1\n",
      "  Using cached python_dateutil-2.8.2-py2.py3-none-any.whl (247 kB)\n",
      "Requirement already satisfied: numpy>=1.13.3 in /usr/local/lib64/python3.6/site-packages (from pandas==0.25.1) (1.14.5)\n",
      "Requirement already satisfied: pytz>=2017.2 in /usr/local/lib/python3.6/site-packages (from pandas==0.25.1) (2019.1)\n",
      "Requirement already satisfied: six>=1.5 in /usr/local/lib/python3.6/site-packages (from python-dateutil>=2.6.1->pandas==0.25.1) (1.12.0)\n",
      "Installing collected packages: python-dateutil, pandas\n",
      "Successfully installed pandas-0.25.1 python-dateutil-2.8.2"
     ]
    }
   ],
   "source": [
    "sc.install_pypi_package(\"pandas==0.25.1\")"
   ]
  },
  {
   "cell_type": "code",
   "execution_count": 5,
   "id": "78e02031",
   "metadata": {},
   "outputs": [
    {
     "data": {
      "application/vnd.jupyter.widget-view+json": {
       "model_id": "f11dbf43c5114b858106e3ea2e8de23f",
       "version_major": 2,
       "version_minor": 0
      },
      "text/plain": [
       "VBox()"
      ]
     },
     "metadata": {},
     "output_type": "display_data"
    },
    {
     "data": {
      "application/vnd.jupyter.widget-view+json": {
       "model_id": "",
       "version_major": 2,
       "version_minor": 0
      },
      "text/plain": [
       "FloatProgress(value=0.0, bar_style='info', description='Progress:', layout=Layout(height='25px', width='50%'),…"
      ]
     },
     "metadata": {},
     "output_type": "display_data"
    },
    {
     "name": "stdout",
     "output_type": "stream",
     "text": [
      "Collecting matplotlib==3.2.2\n",
      "  Using cached matplotlib-3.2.2-cp36-cp36m-manylinux1_x86_64.whl (12.4 MB)\n",
      "Collecting cycler>=0.10\n",
      "  Using cached cycler-0.11.0-py3-none-any.whl (6.4 kB)\n",
      "Requirement already satisfied: python-dateutil>=2.1 in /mnt/tmp/1638469432231-0/lib/python3.6/site-packages (from matplotlib==3.2.2) (2.8.2)\n",
      "Collecting kiwisolver>=1.0.1\n",
      "  Using cached kiwisolver-1.3.1-cp36-cp36m-manylinux1_x86_64.whl (1.1 MB)\n",
      "Requirement already satisfied: numpy>=1.11 in /usr/local/lib64/python3.6/site-packages (from matplotlib==3.2.2) (1.14.5)\n",
      "Collecting pyparsing!=2.0.4,!=2.1.2,!=2.1.6,>=2.0.1\n",
      "  Using cached pyparsing-3.0.6-py3-none-any.whl (97 kB)\n",
      "Requirement already satisfied: six>=1.5 in /usr/local/lib/python3.6/site-packages (from python-dateutil>=2.1->matplotlib==3.2.2) (1.12.0)\n",
      "Installing collected packages: pyparsing, kiwisolver, cycler, matplotlib\n",
      "Successfully installed cycler-0.11.0 kiwisolver-1.3.1 matplotlib-3.2.2 pyparsing-3.0.6"
     ]
    }
   ],
   "source": [
    "sc.install_pypi_package(\"matplotlib==3.2.2\")"
   ]
  },
  {
   "cell_type": "code",
   "execution_count": 6,
   "id": "2e737187",
   "metadata": {},
   "outputs": [
    {
     "data": {
      "application/vnd.jupyter.widget-view+json": {
       "model_id": "3d57ec7d65204d438b1e392158e4dcf6",
       "version_major": 2,
       "version_minor": 0
      },
      "text/plain": [
       "VBox()"
      ]
     },
     "metadata": {},
     "output_type": "display_data"
    },
    {
     "data": {
      "application/vnd.jupyter.widget-view+json": {
       "model_id": "",
       "version_major": 2,
       "version_minor": 0
      },
      "text/plain": [
       "FloatProgress(value=0.0, bar_style='info', description='Progress:', layout=Layout(height='25px', width='50%'),…"
      ]
     },
     "metadata": {},
     "output_type": "display_data"
    }
   ],
   "source": [
    "import numpy as np\n",
    "import pandas as pd\n",
    "# import seaborn as sns\n",
    "import matplotlib.pyplot as plt\n",
    "\n",
    "from time import time\n",
    "\n",
    "from pyspark.sql import Window\n",
    "from pyspark.sql.functions import udf, col, desc, when, lit\n",
    "from pyspark.sql.functions import min as Fmin, max as Fmax, sum as Fsum, avg, count as Fcount, first, last\n",
    "from pyspark.sql.types import IntegerType, DoubleType, StringType\n",
    "\n",
    "from pyspark.ml import Pipeline\n",
    "from pyspark.ml.feature import OneHotEncoder, StringIndexer, MaxAbsScaler, \\\n",
    "                               StandardScaler, VectorAssembler\n",
    "from pyspark.ml.classification import LogisticRegression\n",
    "from pyspark.ml.evaluation import BinaryClassificationEvaluator, \\\n",
    "                                  MulticlassClassificationEvaluator\n",
    "from pyspark.ml.tuning import CrossValidator, ParamGridBuilder"
   ]
  },
  {
   "cell_type": "markdown",
   "id": "6455d5c0",
   "metadata": {},
   "source": [
    "## 1.3_load full dataset"
   ]
  },
  {
   "cell_type": "code",
   "execution_count": 7,
   "id": "481b0faf",
   "metadata": {},
   "outputs": [
    {
     "data": {
      "application/vnd.jupyter.widget-view+json": {
       "model_id": "42b347f2631144b6a47b69b926ff8d89",
       "version_major": 2,
       "version_minor": 0
      },
      "text/plain": [
       "VBox()"
      ]
     },
     "metadata": {},
     "output_type": "display_data"
    },
    {
     "data": {
      "application/vnd.jupyter.widget-view+json": {
       "model_id": "",
       "version_major": 2,
       "version_minor": 0
      },
      "text/plain": [
       "FloatProgress(value=0.0, bar_style='info', description='Progress:', layout=Layout(height='25px', width='50%'),…"
      ]
     },
     "metadata": {},
     "output_type": "display_data"
    },
    {
     "name": "stdout",
     "output_type": "stream",
     "text": [
      "+-----------+---------+---------+------+-------------+--------+---------+-----+--------------------+------+--------+-------------+---------+--------------------+------+-------------+--------------------+-------+\n",
      "|     artist|     auth|firstName|gender|itemInSession|lastName|   length|level|            location|method|    page| registration|sessionId|                song|status|           ts|           userAgent| userId|\n",
      "+-----------+---------+---------+------+-------------+--------+---------+-----+--------------------+------+--------+-------------+---------+--------------------+------+-------------+--------------------+-------+\n",
      "|  Popol Vuh|Logged In|    Shlok|     M|          278| Johnson|524.32934| paid|Dallas-Fort Worth...|   PUT|NextSong|1533734541000|    22683|Ich mache einen S...|   200|1538352001000|\"Mozilla/5.0 (Win...|1749042|\n",
      "|Los Bunkers|Logged In|  Vianney|     F|            9|  Miller|238.39302| paid|San Francisco-Oak...|   PUT|NextSong|1537500318000|    20836|         MiÃÂ©ntele|   200|1538352002000|\"Mozilla/5.0 (Mac...|1563081|\n",
      "|       Lush|Logged In|     Vina|     F|          109|  Bailey|140.35546| paid|            Hilo, HI|   PUT|NextSong|1536414505000|     4593|           Baby Talk|   200|1538352002000|Mozilla/5.0 (Maci...|1697168|\n",
      "+-----------+---------+---------+------+-------------+--------+---------+-----+--------------------+------+--------+-------------+---------+--------------------+------+-------------+--------------------+-------+\n",
      "only showing top 3 rows"
     ]
    }
   ],
   "source": [
    "# Read in full sparkify dataset\n",
    "event_data = \"s3n://udacity-dsnd/sparkify/sparkify_event_data.json\"\n",
    "df = spark.read.json(event_data)\n",
    "df.show(n = 3)"
   ]
  },
  {
   "cell_type": "code",
   "execution_count": 8,
   "id": "22d1c047",
   "metadata": {},
   "outputs": [
    {
     "data": {
      "application/vnd.jupyter.widget-view+json": {
       "model_id": "7fd05a4034b949e18283ed6ab7273af0",
       "version_major": 2,
       "version_minor": 0
      },
      "text/plain": [
       "VBox()"
      ]
     },
     "metadata": {},
     "output_type": "display_data"
    },
    {
     "data": {
      "application/vnd.jupyter.widget-view+json": {
       "model_id": "",
       "version_major": 2,
       "version_minor": 0
      },
      "text/plain": [
       "FloatProgress(value=0.0, bar_style='info', description='Progress:', layout=Layout(height='25px', width='50%'),…"
      ]
     },
     "metadata": {},
     "output_type": "display_data"
    },
    {
     "name": "stdout",
     "output_type": "stream",
     "text": [
      "root\n",
      " |-- artist: string (nullable = true)\n",
      " |-- auth: string (nullable = true)\n",
      " |-- firstName: string (nullable = true)\n",
      " |-- gender: string (nullable = true)\n",
      " |-- itemInSession: long (nullable = true)\n",
      " |-- lastName: string (nullable = true)\n",
      " |-- length: double (nullable = true)\n",
      " |-- level: string (nullable = true)\n",
      " |-- location: string (nullable = true)\n",
      " |-- method: string (nullable = true)\n",
      " |-- page: string (nullable = true)\n",
      " |-- registration: long (nullable = true)\n",
      " |-- sessionId: long (nullable = true)\n",
      " |-- song: string (nullable = true)\n",
      " |-- status: long (nullable = true)\n",
      " |-- ts: long (nullable = true)\n",
      " |-- userAgent: string (nullable = true)\n",
      " |-- userId: string (nullable = true)"
     ]
    }
   ],
   "source": [
    "df.printSchema()"
   ]
  },
  {
   "cell_type": "code",
   "execution_count": 9,
   "id": "0132b25a",
   "metadata": {},
   "outputs": [
    {
     "data": {
      "application/vnd.jupyter.widget-view+json": {
       "model_id": "7ea6b7815a5547ca9ef26626c4b022f9",
       "version_major": 2,
       "version_minor": 0
      },
      "text/plain": [
       "VBox()"
      ]
     },
     "metadata": {},
     "output_type": "display_data"
    },
    {
     "data": {
      "application/vnd.jupyter.widget-view+json": {
       "model_id": "",
       "version_major": 2,
       "version_minor": 0
      },
      "text/plain": [
       "FloatProgress(value=0.0, bar_style='info', description='Progress:', layout=Layout(height='25px', width='50%'),…"
      ]
     },
     "metadata": {},
     "output_type": "display_data"
    }
   ],
   "source": [
    "# Re-order columns in df\n",
    "df = df.select('userId', 'registration', 'firstName', 'lastName', 'gender', \n",
    "               'location', 'userAgent', 'level', 'ts', 'sessionId', \n",
    "               'page', 'auth', 'itemInSession', 'method', 'status',\n",
    "               'song', 'length', 'artist')"
   ]
  },
  {
   "cell_type": "code",
   "execution_count": 10,
   "id": "72cfdc27",
   "metadata": {},
   "outputs": [
    {
     "data": {
      "application/vnd.jupyter.widget-view+json": {
       "model_id": "594a15abdc9b4336a6513931f22d6cfd",
       "version_major": 2,
       "version_minor": 0
      },
      "text/plain": [
       "VBox()"
      ]
     },
     "metadata": {},
     "output_type": "display_data"
    },
    {
     "data": {
      "application/vnd.jupyter.widget-view+json": {
       "model_id": "",
       "version_major": 2,
       "version_minor": 0
      },
      "text/plain": [
       "FloatProgress(value=0.0, bar_style='info', description='Progress:', layout=Layout(height='25px', width='50%'),…"
      ]
     },
     "metadata": {},
     "output_type": "display_data"
    },
    {
     "name": "stdout",
     "output_type": "stream",
     "text": [
      "Row(userId='1749042', registration=1533734541000, firstName='Shlok', lastName='Johnson', gender='M', location='Dallas-Fort Worth-Arlington, TX', userAgent='\"Mozilla/5.0 (Windows NT 6.1; WOW64) AppleWebKit/537.36 (KHTML, like Gecko) Chrome/36.0.1985.143 Safari/537.36\"', level='paid', ts=1538352001000, sessionId=22683, page='NextSong', auth='Logged In', itemInSession=278, method='PUT', status=200, song='Ich mache einen Spiegel - Dream Part 4', length=524.32934, artist='Popol Vuh')"
     ]
    }
   ],
   "source": [
    "df.head()"
   ]
  },
  {
   "cell_type": "markdown",
   "id": "4407ed8a",
   "metadata": {},
   "source": [
    "# **Part 2: Data Preprocessing**"
   ]
  },
  {
   "cell_type": "markdown",
   "id": "2252b7a0",
   "metadata": {},
   "source": [
    "## 2.1_data cleaning"
   ]
  },
  {
   "cell_type": "code",
   "execution_count": 11,
   "id": "c21f94bc",
   "metadata": {},
   "outputs": [
    {
     "data": {
      "application/vnd.jupyter.widget-view+json": {
       "model_id": "9a1b975cf4f340c89c6d2b547b8b3aa5",
       "version_major": 2,
       "version_minor": 0
      },
      "text/plain": [
       "VBox()"
      ]
     },
     "metadata": {},
     "output_type": "display_data"
    },
    {
     "data": {
      "application/vnd.jupyter.widget-view+json": {
       "model_id": "",
       "version_major": 2,
       "version_minor": 0
      },
      "text/plain": [
       "FloatProgress(value=0.0, bar_style='info', description='Progress:', layout=Layout(height='25px', width='50%'),…"
      ]
     },
     "metadata": {},
     "output_type": "display_data"
    }
   ],
   "source": [
    "# Keep the logs that have the non-empty strings and were recorded before December.\n",
    "df_clean = df.filter( (df[\"userId\"] != \"\") & (df[\"ts\"] < 1543622400000) )"
   ]
  },
  {
   "cell_type": "code",
   "execution_count": 11,
   "id": "a48a3c83",
   "metadata": {},
   "outputs": [
    {
     "data": {
      "application/vnd.jupyter.widget-view+json": {
       "model_id": "014ddb3f02254fe38c280f5bb4d99ea1",
       "version_major": 2,
       "version_minor": 0
      },
      "text/plain": [
       "VBox()"
      ]
     },
     "metadata": {},
     "output_type": "display_data"
    },
    {
     "data": {
      "application/vnd.jupyter.widget-view+json": {
       "model_id": "",
       "version_major": 2,
       "version_minor": 0
      },
      "text/plain": [
       "FloatProgress(value=0.0, bar_style='info', description='Progress:', layout=Layout(height='25px', width='50%'),…"
      ]
     },
     "metadata": {},
     "output_type": "display_data"
    },
    {
     "name": "stdout",
     "output_type": "stream",
     "text": [
      "After cleaning, 26259197 logs left\n",
      "After cleaning, 22278 unique users left"
     ]
    }
   ],
   "source": [
    "num_user = df_clean.select(\"userId\").dropDuplicates().count()\n",
    "\n",
    "print(f'After cleaning, {df_clean.count()} logs left')\n",
    "print(f'After cleaning, {num_user} unique users left')"
   ]
  },
  {
   "cell_type": "markdown",
   "id": "b9876c3c",
   "metadata": {},
   "source": [
    "## 2.2_data wrangling"
   ]
  },
  {
   "cell_type": "code",
   "execution_count": 12,
   "id": "42868ea2",
   "metadata": {},
   "outputs": [
    {
     "data": {
      "application/vnd.jupyter.widget-view+json": {
       "model_id": "665ca7a6be684a47b1de07f4c7f3128d",
       "version_major": 2,
       "version_minor": 0
      },
      "text/plain": [
       "VBox()"
      ]
     },
     "metadata": {},
     "output_type": "display_data"
    },
    {
     "data": {
      "application/vnd.jupyter.widget-view+json": {
       "model_id": "",
       "version_major": 2,
       "version_minor": 0
      },
      "text/plain": [
       "FloatProgress(value=0.0, bar_style='info', description='Progress:', layout=Layout(height='25px', width='50%'),…"
      ]
     },
     "metadata": {},
     "output_type": "display_data"
    }
   ],
   "source": [
    "# function for extreacting the OS string\n",
    "# These code can't run with pyspark==2.4.3\n",
    "\n",
    "# get_agent_operation_system = udf(lambda x: x.split('(')[1].replace(\";\", \" \").split(\" \")[0])\n",
    "\n",
    "# # Replace the original 'userAgent' column with a column having the OS info only\n",
    "# df_clean_wrangle = df_clean.withColumn(\"userAgent\", get_agent_operation_system(\"userAgent\"))\n",
    "# df_clean_wrangle = df_clean_wrangle.withColumnRenamed(\"userAgent\", \"userAgent_OS\")"
   ]
  },
  {
   "cell_type": "code",
   "execution_count": 13,
   "id": "27a335c2",
   "metadata": {},
   "outputs": [
    {
     "data": {
      "application/vnd.jupyter.widget-view+json": {
       "model_id": "2a67662b888542bba55c8c262ac524bf",
       "version_major": 2,
       "version_minor": 0
      },
      "text/plain": [
       "VBox()"
      ]
     },
     "metadata": {},
     "output_type": "display_data"
    },
    {
     "data": {
      "application/vnd.jupyter.widget-view+json": {
       "model_id": "",
       "version_major": 2,
       "version_minor": 0
      },
      "text/plain": [
       "FloatProgress(value=0.0, bar_style='info', description='Progress:', layout=Layout(height='25px', width='50%'),…"
      ]
     },
     "metadata": {},
     "output_type": "display_data"
    }
   ],
   "source": [
    "df_clean_wrangle = df_clean"
   ]
  },
  {
   "cell_type": "markdown",
   "id": "ee88484b",
   "metadata": {},
   "source": [
    "## 2.3_one-hot encoding_1 (churn, gender, last level)"
   ]
  },
  {
   "cell_type": "code",
   "execution_count": 14,
   "id": "9a7d8240",
   "metadata": {},
   "outputs": [
    {
     "data": {
      "application/vnd.jupyter.widget-view+json": {
       "model_id": "a9beabc2d940475596b7db8227a6ae47",
       "version_major": 2,
       "version_minor": 0
      },
      "text/plain": [
       "VBox()"
      ]
     },
     "metadata": {},
     "output_type": "display_data"
    },
    {
     "data": {
      "application/vnd.jupyter.widget-view+json": {
       "model_id": "",
       "version_major": 2,
       "version_minor": 0
      },
      "text/plain": [
       "FloatProgress(value=0.0, bar_style='info', description='Progress:', layout=Layout(height='25px', width='50%'),…"
      ]
     },
     "metadata": {},
     "output_type": "display_data"
    }
   ],
   "source": [
    "# Define churned users who submitted the confirmation of cancellation.\n",
    "# 0 and 1 represent non-churned users and churned users respectively.\n",
    "churn_user_list = df_clean.filter(df_clean.page == \"Cancellation Confirmation\").select(\"userId\").dropDuplicates()\n",
    "churn_user_list = [ churn_user['userId'] for churn_user in churn_user_list.collect() ]\n",
    "\n",
    "get_churn_user = udf(lambda x: 1 if x in churn_user_list else 0, IntegerType())\n",
    "\n",
    "df_one_hot = df_clean_wrangle.withColumn(\"churn_bool\", get_churn_user('userId'))"
   ]
  },
  {
   "cell_type": "code",
   "execution_count": 15,
   "id": "ecd9520e",
   "metadata": {},
   "outputs": [
    {
     "data": {
      "application/vnd.jupyter.widget-view+json": {
       "model_id": "ede6c675b9164817acb965430c7e318a",
       "version_major": 2,
       "version_minor": 0
      },
      "text/plain": [
       "VBox()"
      ]
     },
     "metadata": {},
     "output_type": "display_data"
    },
    {
     "data": {
      "application/vnd.jupyter.widget-view+json": {
       "model_id": "",
       "version_major": 2,
       "version_minor": 0
      },
      "text/plain": [
       "FloatProgress(value=0.0, bar_style='info', description='Progress:', layout=Layout(height='25px', width='50%'),…"
      ]
     },
     "metadata": {},
     "output_type": "display_data"
    }
   ],
   "source": [
    "# One-hot encode the gender column.\n",
    "# 0 and 1 represent female and male respectively.\n",
    "get_gender = udf(lambda x: 1.0 if x == 'M' else 0.0, DoubleType())\n",
    "\n",
    "df_one_hot = df_one_hot.withColumn(\"gender\", get_gender(df_one_hot.gender))\n",
    "\n",
    "df_one_hot = df_one_hot.withColumnRenamed(\"gender\", \"gender_bool\")"
   ]
  },
  {
   "cell_type": "code",
   "execution_count": 16,
   "id": "3b8c04d3",
   "metadata": {},
   "outputs": [
    {
     "data": {
      "application/vnd.jupyter.widget-view+json": {
       "model_id": "883414a0dd694c7abadc78950b746a77",
       "version_major": 2,
       "version_minor": 0
      },
      "text/plain": [
       "VBox()"
      ]
     },
     "metadata": {},
     "output_type": "display_data"
    },
    {
     "data": {
      "application/vnd.jupyter.widget-view+json": {
       "model_id": "",
       "version_major": 2,
       "version_minor": 0
      },
      "text/plain": [
       "FloatProgress(value=0.0, bar_style='info', description='Progress:', layout=Layout(height='25px', width='50%'),…"
      ]
     },
     "metadata": {},
     "output_type": "display_data"
    }
   ],
   "source": [
    "# One-hot encode users’ last subscription level within the observation period.\n",
    "# 0 and 1 represent the free plan and the paid plan respectively.\n",
    "window_user = Window.partitionBy('userId').orderBy('ts').rangeBetween(Window.unboundedPreceding, Window.unboundedFollowing)\n",
    "get_level = udf(lambda x: 1.0 if x == 'paid' else 0.0, DoubleType())\n",
    "\n",
    "df_one_hot = df_one_hot.withColumn(\"level\", get_level(last('level').over(window_user)))\n",
    "df_one_hot = df_one_hot.withColumnRenamed(\"level\", \"last_level_bool\")"
   ]
  },
  {
   "cell_type": "markdown",
   "id": "909a7e60",
   "metadata": {},
   "source": [
    "## 2.4_proportion of churned users and non-churned users"
   ]
  },
  {
   "cell_type": "code",
   "execution_count": 17,
   "id": "ba773acf",
   "metadata": {},
   "outputs": [
    {
     "data": {
      "application/vnd.jupyter.widget-view+json": {
       "model_id": "f5c4e5f071224bc3a43b56446aef470f",
       "version_major": 2,
       "version_minor": 0
      },
      "text/plain": [
       "VBox()"
      ]
     },
     "metadata": {},
     "output_type": "display_data"
    },
    {
     "data": {
      "application/vnd.jupyter.widget-view+json": {
       "model_id": "",
       "version_major": 2,
       "version_minor": 0
      },
      "text/plain": [
       "FloatProgress(value=0.0, bar_style='info', description='Progress:', layout=Layout(height='25px', width='50%'),…"
      ]
     },
     "metadata": {},
     "output_type": "display_data"
    }
   ],
   "source": [
    "df_count_proportion = df_one_hot.select(\"userId\", \"churn_bool\").dropDuplicates()"
   ]
  },
  {
   "cell_type": "code",
   "execution_count": 19,
   "id": "8e21a905",
   "metadata": {},
   "outputs": [
    {
     "data": {
      "application/vnd.jupyter.widget-view+json": {
       "model_id": "6418ccef18f545e0a31c0a5db4ae945b",
       "version_major": 2,
       "version_minor": 0
      },
      "text/plain": [
       "VBox()"
      ]
     },
     "metadata": {},
     "output_type": "display_data"
    },
    {
     "data": {
      "application/vnd.jupyter.widget-view+json": {
       "model_id": "",
       "version_major": 2,
       "version_minor": 0
      },
      "text/plain": [
       "FloatProgress(value=0.0, bar_style='info', description='Progress:', layout=Layout(height='25px', width='50%'),…"
      ]
     },
     "metadata": {},
     "output_type": "display_data"
    },
    {
     "name": "stdout",
     "output_type": "stream",
     "text": [
      "Number of churned users: 5003\n",
      "Number of non-churned users: 17275\n",
      "Propostion of churned users: 0.225\n",
      "Propostion of non-churned users: 0.775"
     ]
    }
   ],
   "source": [
    "num_churn = df_count_proportion.filter( df_count_proportion.churn_bool == 1 ).count()\n",
    "num_non_churn = num_user - num_churn\n",
    "\n",
    "proportion_churn = num_churn / num_user\n",
    "proportion_non_churn = num_non_churn / num_user\n",
    "\n",
    "print(f'Number of churned users: {num_churn}')\n",
    "print(f'Number of non-churned users: {num_non_churn}')\n",
    "print(f'Propostion of churned users: {proportion_churn:.3f}')\n",
    "print(f'Propostion of non-churned users: {proportion_non_churn:.3f}')"
   ]
  },
  {
   "cell_type": "markdown",
   "id": "6184c348",
   "metadata": {},
   "source": [
    "## 2.5_Feature Engineering"
   ]
  },
  {
   "cell_type": "code",
   "execution_count": 17,
   "id": "23b9a41b",
   "metadata": {},
   "outputs": [
    {
     "data": {
      "application/vnd.jupyter.widget-view+json": {
       "model_id": "0bb10ce90bd4481fb2251949e55138bd",
       "version_major": 2,
       "version_minor": 0
      },
      "text/plain": [
       "VBox()"
      ]
     },
     "metadata": {},
     "output_type": "display_data"
    },
    {
     "data": {
      "application/vnd.jupyter.widget-view+json": {
       "model_id": "",
       "version_major": 2,
       "version_minor": 0
      },
      "text/plain": [
       "FloatProgress(value=0.0, bar_style='info', description='Progress:', layout=Layout(height='25px', width='50%'),…"
      ]
     },
     "metadata": {},
     "output_type": "display_data"
    }
   ],
   "source": [
    "# Default observation start and end timestamps \n",
    "# for users who have registered before October 1 and had not churned\n",
    "observation_start_default = 1538352000000 # 01/10/2018 00:00:00\n",
    "observation_end_default = 1543622400000 # 30/11/2018 23:59:59"
   ]
  },
  {
   "cell_type": "code",
   "execution_count": 18,
   "id": "d7f3330f",
   "metadata": {},
   "outputs": [
    {
     "data": {
      "application/vnd.jupyter.widget-view+json": {
       "model_id": "df2a907066a747a0b3c12b7125b78201",
       "version_major": 2,
       "version_minor": 0
      },
      "text/plain": [
       "VBox()"
      ]
     },
     "metadata": {},
     "output_type": "display_data"
    },
    {
     "data": {
      "application/vnd.jupyter.widget-view+json": {
       "model_id": "",
       "version_major": 2,
       "version_minor": 0
      },
      "text/plain": [
       "FloatProgress(value=0.0, bar_style='info', description='Progress:', layout=Layout(height='25px', width='50%'),…"
      ]
     },
     "metadata": {},
     "output_type": "display_data"
    }
   ],
   "source": [
    "# Obtain the observation window of users and the corresponding duration in days.\n",
    "window_user = Window.partitionBy('userId').orderBy('ts').rangeBetween(Window.unboundedPreceding, Window.unboundedFollowing)\n",
    "\n",
    "df_one_hot = df_one_hot.withColumn(\"observation_start\", \\\n",
    "                                   when(df_one_hot.registration > observation_start_default, df_one_hot.registration)\\\n",
    "                                   .otherwise(observation_start_default))\n",
    "\n",
    "df_one_hot = df_one_hot.withColumn(\"last_log_ts\", last(col('ts')).over(window_user))\n",
    "\n",
    "df_one_hot = df_one_hot.withColumn(\"observation_end\", \\\n",
    "                                   when(df_one_hot.churn_bool == 1, df_one_hot.last_log_ts)\\\n",
    "                                   .otherwise(observation_end_default))\n",
    "\n",
    "df_one_hot = df_one_hot.withColumn(\"observation_duration_day\", \\\n",
    "                                   (df_one_hot.observation_end - df_one_hot.observation_start) / 1000 / 3600 / 24)"
   ]
  },
  {
   "cell_type": "code",
   "execution_count": 19,
   "id": "409f3fe2",
   "metadata": {},
   "outputs": [
    {
     "data": {
      "application/vnd.jupyter.widget-view+json": {
       "model_id": "dbad5d7f27674a5392ff51cd9083135e",
       "version_major": 2,
       "version_minor": 0
      },
      "text/plain": [
       "VBox()"
      ]
     },
     "metadata": {},
     "output_type": "display_data"
    },
    {
     "data": {
      "application/vnd.jupyter.widget-view+json": {
       "model_id": "",
       "version_major": 2,
       "version_minor": 0
      },
      "text/plain": [
       "FloatProgress(value=0.0, bar_style='info', description='Progress:', layout=Layout(height='25px', width='50%'),…"
      ]
     },
     "metadata": {},
     "output_type": "display_data"
    }
   ],
   "source": [
    "# Aggregation by userId\n",
    "df_aggregation = \\\n",
    "df_one_hot\\\n",
    ".groupby('userId')\\\n",
    ".agg(\n",
    "      # Aggregated user-level features\n",
    "      first(col('churn_bool')).alias('label'),\n",
    "      first(col('gender_bool')).alias('gender_bool'),\n",
    "      first(col('last_level_bool')).alias('last_level_bool'),\n",
    "      first(col('observation_duration_day')).alias('observation_duration_day'),\n",
    "      \n",
    "      # Aggregated statistics about interactions\n",
    "      Fcount(col('page')).alias('interaction_num'),\n",
    "      Fsum(when(col('page') == \"NextSong\", 1).otherwise(0)).alias(\"song_num\"),\n",
    "      Fsum(when(col('page') == \"Thumbs Up\", 1).otherwise(0)).alias(\"thump_up_num\"),\n",
    "      Fsum(when(col('page') == \"Thumbs Down\", 1).otherwise(0)).alias(\"thump_down_num\"),\n",
    "      Fsum(when(col('page') == \"Add Friend\", 1).otherwise(0)).alias(\"add_friend_num\"),\n",
    "      Fsum(when(col('page') == \"Add to Playlist\", 1).otherwise(0)).alias(\"add_playlist_num\"),\n",
    "      Fsum(when(col('page') == \"Submit Downgrade\", 1).otherwise(0)).alias(\"submit_downgrade_num\"),\n",
    "      Fsum(when(col('page') == \"Submit Upgrade\", 1).otherwise(0)).alias(\"submit_upgrade_num\"),\n",
    "      Fsum(when(col('page') == \"Home\", 1).otherwise(0)).alias(\"home_per_num\"),\n",
    "      Fsum(when(col('page') == \"Roll Advert\", 1).otherwise(0)).alias(\"advertisement_num\"),\n",
    "      Fsum(when(col('page') == \"Help\", 1).otherwise(0)).alias(\"help_num\"),\n",
    "      Fsum(when(col('page') == \"Settings\", 1).otherwise(0)).alias(\"setting_num\"),\n",
    "      Fsum(when(col('page') == \"Error\", 1).otherwise(0)).alias(\"error_num\"),\n",
    "      \n",
    "      # Aggregated statistics about interactions within a particular period\n",
    "      Fsum(when(col('ts') < col('observation_start') + (14 * 24 * 3600 * 1000), 1).otherwise(0)).alias(\"interaction_num_first_14_day\"),\n",
    "      Fsum(when(col('ts') > col('observation_end') - (14 * 24 * 3600 * 1000), 1).otherwise(0)).alias(\"interaction_num_last_14_day\"),\n",
    "      Fsum(when( (col('page') == \"NextSong\") & (col('ts') < col('observation_start') + (14 * 24 * 3600 * 1000)), 1 ).otherwise(0)).alias(\"song_num_first_14_day\"),\n",
    "      Fsum(when( (col('page') == \"NextSong\") & (col('ts') > col('observation_end') - (14 * 24 * 3600 * 1000)), 1 ).otherwise(0)).alias(\"song_num_last_14_day\"),\n",
    "     \n",
    "      # Aggregated statistics of users' \"age\"\n",
    "      ((Fmax('ts') - first('registration')) / 1000 / 3600 / 24).alias(\"day_since_registration\")\n",
    ")"
   ]
  },
  {
   "cell_type": "code",
   "execution_count": 20,
   "id": "a11c0ef4",
   "metadata": {},
   "outputs": [
    {
     "data": {
      "application/vnd.jupyter.widget-view+json": {
       "model_id": "1f01d7c84d2a4e70a546b77f20cc5656",
       "version_major": 2,
       "version_minor": 0
      },
      "text/plain": [
       "VBox()"
      ]
     },
     "metadata": {},
     "output_type": "display_data"
    },
    {
     "data": {
      "application/vnd.jupyter.widget-view+json": {
       "model_id": "",
       "version_major": 2,
       "version_minor": 0
      },
      "text/plain": [
       "FloatProgress(value=0.0, bar_style='info', description='Progress:', layout=Layout(height='25px', width='50%'),…"
      ]
     },
     "metadata": {},
     "output_type": "display_data"
    }
   ],
   "source": [
    "# Obtain features for the model training\n",
    "# Convert the above aggregated statistics into specific formats (per unit of time, ratio etc.)\n",
    "df_engineered_feature = \\\n",
    "df_aggregation\\\n",
    ".withColumn('interaction_per_day', col('interaction_num') / col('observation_duration_day'))\\\n",
    ".withColumn('song_per_day', col('song_num') / col('observation_duration_day'))\\\n",
    ".withColumn('thump_up_per_day', col('thump_up_num') / col('observation_duration_day'))\\\n",
    ".withColumn('thump_down_per_day', col('thump_down_num') / col('observation_duration_day'))\\\n",
    ".withColumn('add_friend_per_day', col('add_friend_num') / col('observation_duration_day'))\\\n",
    ".withColumn('add_playlist_per_day', col('add_playlist_num') / col('observation_duration_day'))\\\n",
    ".withColumn('home_per_day', col('home_per_num') / col('observation_duration_day'))\\\n",
    ".withColumn('advertisement_per_day', col('advertisement_num') / col('observation_duration_day'))\\\n",
    ".withColumn('help_per_day', col('help_num') / col('observation_duration_day'))\\\n",
    ".withColumn('setting_per_day', col('setting_num') / col('observation_duration_day'))\\\n",
    ".withColumn('error_per_day', col('error_num') / col('observation_duration_day'))\\\n",
    ".withColumn('song_ratio', col('song_num') / col('interaction_num'))\\\n",
    ".withColumn( 'positive_ratio', (col('thump_up_num') + col('add_friend_num') + col('add_playlist_num')) / col('interaction_num') )\\\n",
    ".withColumn( 'negative_ratio', (col('thump_down_num') + col('help_num') + col('error_num')) / col('interaction_num') )\\\n",
    ".withColumn( 'thumb_up_down_ratio', col('thump_up_num') / (col('thump_down_num') + 0.0001) )\\\n",
    ".withColumn('plan_change_num', col('submit_upgrade_num') + col('submit_downgrade_num'))\\\n",
    ".withColumn( 'trend_interaction', (col('interaction_num_last_14_day') - col('interaction_num_first_14_day')) / 14 / col('observation_duration_day') )\\\n",
    ".withColumn( 'trend_song', (col('song_num_last_14_day') - col('song_num_first_14_day')) / 14 / col('observation_duration_day') )"
   ]
  },
  {
   "cell_type": "code",
   "execution_count": 21,
   "id": "e33725e4",
   "metadata": {},
   "outputs": [
    {
     "data": {
      "application/vnd.jupyter.widget-view+json": {
       "model_id": "f3a2582f67d7408fade2f84bd9d6185f",
       "version_major": 2,
       "version_minor": 0
      },
      "text/plain": [
       "VBox()"
      ]
     },
     "metadata": {},
     "output_type": "display_data"
    },
    {
     "data": {
      "application/vnd.jupyter.widget-view+json": {
       "model_id": "",
       "version_major": 2,
       "version_minor": 0
      },
      "text/plain": [
       "FloatProgress(value=0.0, bar_style='info', description='Progress:', layout=Layout(height='25px', width='50%'),…"
      ]
     },
     "metadata": {},
     "output_type": "display_data"
    }
   ],
   "source": [
    "# Filter out the intermediate information\n",
    "df_engineered_feature = \\\n",
    "df_engineered_feature.select(df_engineered_feature.columns[0:4] + df_engineered_feature.columns[22:])"
   ]
  },
  {
   "cell_type": "code",
   "execution_count": 22,
   "id": "46fabd42",
   "metadata": {},
   "outputs": [
    {
     "data": {
      "application/vnd.jupyter.widget-view+json": {
       "model_id": "96fd033f342a487a8eebc56dbc78cfa9",
       "version_major": 2,
       "version_minor": 0
      },
      "text/plain": [
       "VBox()"
      ]
     },
     "metadata": {},
     "output_type": "display_data"
    },
    {
     "data": {
      "application/vnd.jupyter.widget-view+json": {
       "model_id": "",
       "version_major": 2,
       "version_minor": 0
      },
      "text/plain": [
       "FloatProgress(value=0.0, bar_style='info', description='Progress:', layout=Layout(height='25px', width='50%'),…"
      ]
     },
     "metadata": {},
     "output_type": "display_data"
    }
   ],
   "source": [
    "# Obtain features for the model training\n",
    "# Calculation of user's average item in a session and average session length\n",
    "interaction_pattern_1 = \\\n",
    "df.groupby(['userId', 'sessionId'])\\\n",
    "  .agg(\n",
    "       Fmax(col('itemInSession')).alias('item_in_session'), \n",
    "       ( Fmax(col('ts')) - Fmin(col('ts')) ).alias('session_length')     \n",
    "  )\\\n",
    " .groupby('userId')\\\n",
    "  .agg(\n",
    "       avg(col('item_in_session')).alias('average_session_item'),\n",
    "       avg(col('session_length')).alias('average_session_length')\n",
    "  )"
   ]
  },
  {
   "cell_type": "code",
   "execution_count": 23,
   "id": "a39253c7",
   "metadata": {},
   "outputs": [
    {
     "data": {
      "application/vnd.jupyter.widget-view+json": {
       "model_id": "3589fee5071249a396f25f52176149fb",
       "version_major": 2,
       "version_minor": 0
      },
      "text/plain": [
       "VBox()"
      ]
     },
     "metadata": {},
     "output_type": "display_data"
    },
    {
     "data": {
      "application/vnd.jupyter.widget-view+json": {
       "model_id": "",
       "version_major": 2,
       "version_minor": 0
      },
      "text/plain": [
       "FloatProgress(value=0.0, bar_style='info', description='Progress:', layout=Layout(height='25px', width='50%'),…"
      ]
     },
     "metadata": {},
     "output_type": "display_data"
    }
   ],
   "source": [
    "# Obtain features for the model training\n",
    "# Calculation of user's average number of songs played between two consecutive home visits\n",
    "windowhome = (Window.partitionBy('userId').orderBy('ts').rangeBetween(Window.unboundedPreceding, 0))\n",
    "\n",
    "df_dummy = df.withColumn(\"home_phase\", Fsum(when(df.page == \"Home\", 1).otherwise(0)).over(windowhome))\n",
    "\n",
    "interaction_pattern_2 = \\\n",
    "df_dummy.groupby(['userId', 'home_phase'])\\\n",
    "        .agg(\n",
    "             Fsum(when(col('page') == \"NextSong\", 1).otherwise(0)).alias('song_between_home')\n",
    "        )\\\n",
    "        .groupby('userId')\\\n",
    "          .agg(\n",
    "               avg(col('song_between_home')).alias('average_song')\n",
    "          )"
   ]
  },
  {
   "cell_type": "code",
   "execution_count": 24,
   "id": "c4df0a3d",
   "metadata": {},
   "outputs": [
    {
     "data": {
      "application/vnd.jupyter.widget-view+json": {
       "model_id": "c170bf007bca4516a93e5fb3caa4ded1",
       "version_major": 2,
       "version_minor": 0
      },
      "text/plain": [
       "VBox()"
      ]
     },
     "metadata": {},
     "output_type": "display_data"
    },
    {
     "data": {
      "application/vnd.jupyter.widget-view+json": {
       "model_id": "",
       "version_major": 2,
       "version_minor": 0
      },
      "text/plain": [
       "FloatProgress(value=0.0, bar_style='info', description='Progress:', layout=Layout(height='25px', width='50%'),…"
      ]
     },
     "metadata": {},
     "output_type": "display_data"
    }
   ],
   "source": [
    "# Join the dataframe of engineered features together\n",
    "df_engineered_feature = \\\n",
    "df_engineered_feature\\\n",
    ".join(interaction_pattern_1, on = 'userId')\\\n",
    ".join(interaction_pattern_2, on = 'userId')"
   ]
  },
  {
   "cell_type": "code",
   "execution_count": 25,
   "id": "a628d5eb",
   "metadata": {},
   "outputs": [
    {
     "data": {
      "application/vnd.jupyter.widget-view+json": {
       "model_id": "d265b177b27c45ea9185f5e006ff84fd",
       "version_major": 2,
       "version_minor": 0
      },
      "text/plain": [
       "VBox()"
      ]
     },
     "metadata": {},
     "output_type": "display_data"
    },
    {
     "data": {
      "application/vnd.jupyter.widget-view+json": {
       "model_id": "",
       "version_major": 2,
       "version_minor": 0
      },
      "text/plain": [
       "FloatProgress(value=0.0, bar_style='info', description='Progress:', layout=Layout(height='25px', width='50%'),…"
      ]
     },
     "metadata": {},
     "output_type": "display_data"
    },
    {
     "name": "stdout",
     "output_type": "stream",
     "text": [
      "+-------+-----+-----------+---------------+----------------------+-------------------+------------------+-------------------+-------------------+-------------------+--------------------+------------------+---------------------+-------------------+-------------------+-------------------+------------------+-------------------+--------------------+-------------------+---------------+--------------------+--------------------+--------------------+----------------------+------------------+\n",
      "| userId|label|gender_bool|last_level_bool|day_since_registration|interaction_per_day|      song_per_day|   thump_up_per_day| thump_down_per_day| add_friend_per_day|add_playlist_per_day|      home_per_day|advertisement_per_day|       help_per_day|    setting_per_day|      error_per_day|        song_ratio|     positive_ratio|      negative_ratio|thumb_up_down_ratio|plan_change_num|   trend_interaction|          trend_song|average_session_item|average_session_length|      average_song|\n",
      "+-------+-----+-----------+---------------+----------------------+-------------------+------------------+-------------------+-------------------+-------------------+--------------------+------------------+---------------------+-------------------+-------------------+-------------------+------------------+-------------------+--------------------+-------------------+---------------+--------------------+--------------------+--------------------+----------------------+------------------+\n",
      "|1000280|    1|        1.0|            0.0|     77.30377314814815| 29.960307900110188|23.249380921725596|  1.205691965608079| 0.7507138653786152| 0.3184846701606246|  0.5687226252868297|1.0009518205048202|   1.6834189708490157| 0.1819912400917855| 0.2047401451032587|0.06824671503441956|0.7760060744115413|0.06985573272589218|0.033409263477600606| 1.6060557392250325|              2|-0.04062304466334498|-0.01624921786533...|   60.22727272727273|  1.1694363636363637E7|22.711111111111112|\n",
      "|1002185|    0|        0.0|            1.0|     65.75105324074075|  34.09836065573771|29.147540983606557| 1.5081967213114753|0.22950819672131148| 0.4098360655737705|  0.8032786885245902|               1.0|  0.01639344262295082|0.19672131147540983|0.16393442622950818|0.03278688524590164|0.8548076923076923| 0.0798076923076923|0.013461538461538462|  6.571381632988336|              0|-0.34192037470725994|  -0.297423887587822|  123.76470588235294|   2.608435294117647E7|29.147540983606557|\n",
      "|1017805|    0|        0.0|            1.0|     54.26638888888889|  5.245901639344262| 4.098360655737705|0.11475409836065574|0.06557377049180328|0.21311475409836064| 0.08196721311475409|0.2786885245901639|  0.09836065573770492|0.01639344262295082|0.04918032786885246|                0.0|           0.78125|           0.078125|            0.015625| 1.7499562510937228|              0| -0.1955503512880562|-0.15807962529274003|  110.33333333333333|  2.1136666666666668E7| 13.88888888888889|\n",
      "+-------+-----+-----------+---------------+----------------------+-------------------+------------------+-------------------+-------------------+-------------------+--------------------+------------------+---------------------+-------------------+-------------------+-------------------+------------------+-------------------+--------------------+-------------------+---------------+--------------------+--------------------+--------------------+----------------------+------------------+\n",
      "only showing top 3 rows"
     ]
    }
   ],
   "source": [
    "df_engineered_feature.show(n = 3)"
   ]
  },
  {
   "cell_type": "markdown",
   "id": "4c519e83",
   "metadata": {},
   "source": [
    "## 2.6_one-hot encoding_2 (userAgent_OS)"
   ]
  },
  {
   "cell_type": "code",
   "execution_count": 26,
   "id": "a11aa641",
   "metadata": {},
   "outputs": [
    {
     "data": {
      "application/vnd.jupyter.widget-view+json": {
       "model_id": "4817c113371a445da7fdcc994aa9bb03",
       "version_major": 2,
       "version_minor": 0
      },
      "text/plain": [
       "VBox()"
      ]
     },
     "metadata": {},
     "output_type": "display_data"
    },
    {
     "data": {
      "application/vnd.jupyter.widget-view+json": {
       "model_id": "",
       "version_major": 2,
       "version_minor": 0
      },
      "text/plain": [
       "FloatProgress(value=0.0, bar_style='info', description='Progress:', layout=Layout(height='25px', width='50%'),…"
      ]
     },
     "metadata": {},
     "output_type": "display_data"
    }
   ],
   "source": [
    "df_engineered_feature_3 = df_engineered_feature"
   ]
  },
  {
   "cell_type": "markdown",
   "id": "d4098a2e",
   "metadata": {},
   "source": [
    "## 2.7_check & drop highly correlated features"
   ]
  },
  {
   "cell_type": "code",
   "execution_count": 27,
   "id": "85097ab2",
   "metadata": {},
   "outputs": [
    {
     "data": {
      "application/vnd.jupyter.widget-view+json": {
       "model_id": "a88ad757e72448fb8fcacde8bc339a49",
       "version_major": 2,
       "version_minor": 0
      },
      "text/plain": [
       "VBox()"
      ]
     },
     "metadata": {},
     "output_type": "display_data"
    },
    {
     "data": {
      "application/vnd.jupyter.widget-view+json": {
       "model_id": "",
       "version_major": 2,
       "version_minor": 0
      },
      "text/plain": [
       "FloatProgress(value=0.0, bar_style='info', description='Progress:', layout=Layout(height='25px', width='50%'),…"
      ]
     },
     "metadata": {},
     "output_type": "display_data"
    },
    {
     "name": "stdout",
     "output_type": "stream",
     "text": [
      "        userId  label  ...  average_session_length  average_song\n",
      "0      1000280      1  ...            1.169436e+07     22.711111\n",
      "1      1002185      0  ...            2.608435e+07     29.147541\n",
      "2      1017805      0  ...            2.113667e+07     13.888889\n",
      "3      1030587      0  ...            3.294364e+07     22.646154\n",
      "4      1033297      0  ...            1.182100e+07     14.750000\n",
      "...        ...    ...  ...                     ...           ...\n",
      "22273  1930015      0  ...            1.837746e+07     22.023256\n",
      "22274  1955029      0  ...            1.220356e+07     22.850000\n",
      "22275  1960992      0  ...            5.644750e+06     15.500000\n",
      "22276  1977992      0  ...            3.913200e+07     17.200000\n",
      "22277  1981978      1  ...            5.799000e+06     11.692308\n",
      "\n",
      "[22278 rows x 26 columns]"
     ]
    }
   ],
   "source": [
    "# Convert the spark dataframe having engineered features to pandas dataframe\n",
    "df_pd_engineered_feature = df_engineered_feature_3.toPandas()\n",
    "df_pd_engineered_feature"
   ]
  },
  {
   "cell_type": "code",
   "execution_count": 28,
   "id": "bb2c7ab9",
   "metadata": {},
   "outputs": [
    {
     "data": {
      "application/vnd.jupyter.widget-view+json": {
       "model_id": "442409d334f141069e533b97b5dd9c58",
       "version_major": 2,
       "version_minor": 0
      },
      "text/plain": [
       "VBox()"
      ]
     },
     "metadata": {},
     "output_type": "display_data"
    },
    {
     "data": {
      "application/vnd.jupyter.widget-view+json": {
       "model_id": "",
       "version_major": 2,
       "version_minor": 0
      },
      "text/plain": [
       "FloatProgress(value=0.0, bar_style='info', description='Progress:', layout=Layout(height='25px', width='50%'),…"
      ]
     },
     "metadata": {},
     "output_type": "display_data"
    },
    {
     "name": "stdout",
     "output_type": "stream",
     "text": [
      "Highly correlated features that should be removed:\n",
      "\n",
      "['average_session_length', 'trend_song', 'help_per_day', 'home_per_day', 'add_playlist_per_day', 'add_friend_per_day', 'thump_up_per_day']\n",
      "\n",
      "\n",
      "Features to keep:\n",
      "\n",
      "['userId', 'label', 'gender_bool', 'last_level_bool', 'day_since_registration', 'interaction_per_day', 'song_per_day', 'thump_down_per_day', 'advertisement_per_day', 'setting_per_day', 'error_per_day', 'song_ratio', 'positive_ratio', 'negative_ratio', 'thumb_up_down_ratio', 'plan_change_num', 'trend_interaction', 'average_session_item', 'average_song']"
     ]
    }
   ],
   "source": [
    "# Determine the features to be removed (correlation >= 0.7)\n",
    "column_to_remove = []\n",
    "counter = 0\n",
    "\n",
    "# Calculate the correlation between engineered features\n",
    "correlation_matrix = df_pd_engineered_feature.drop(['userId', 'label'], axis = 1).corr()\n",
    "columns = correlation_matrix.columns.tolist()\n",
    "columns.reverse()\n",
    "\n",
    "for coln in columns:\n",
    "\n",
    "  counter += 1\n",
    "\n",
    "  if abs(correlation_matrix[coln].iloc[:-counter]).max() >= 0.7:\n",
    "      column_to_remove.append(coln)  \n",
    "\n",
    "print(f\"Highly correlated features that should be removed:\\n\\n{column_to_remove}\\n\\n\")\n",
    "\n",
    "column_to_keep = df_pd_engineered_feature.columns.drop(column_to_remove).tolist()\n",
    "print(f\"Features to keep:\\n\\n{column_to_keep}\")"
   ]
  },
  {
   "cell_type": "code",
   "execution_count": 29,
   "id": "10207301",
   "metadata": {},
   "outputs": [
    {
     "data": {
      "application/vnd.jupyter.widget-view+json": {
       "model_id": "5f691b58c14f4cab941a02673529a327",
       "version_major": 2,
       "version_minor": 0
      },
      "text/plain": [
       "VBox()"
      ]
     },
     "metadata": {},
     "output_type": "display_data"
    },
    {
     "data": {
      "application/vnd.jupyter.widget-view+json": {
       "model_id": "",
       "version_major": 2,
       "version_minor": 0
      },
      "text/plain": [
       "FloatProgress(value=0.0, bar_style='info', description='Progress:', layout=Layout(height='25px', width='50%'),…"
      ]
     },
     "metadata": {},
     "output_type": "display_data"
    },
    {
     "name": "stdout",
     "output_type": "stream",
     "text": [
      "       userId  label  ...  average_session_length  average_song\n",
      "2410  1261737      0  ...            3.272018e+08           0.0\n",
      "\n",
      "[1 rows x 26 columns]"
     ]
    }
   ],
   "source": [
    "# a user did not use the service at all after registration\n",
    "# it can be just removed due to the null values in engineered feature columns\n",
    "print(df_pd_engineered_feature[df_pd_engineered_feature.isnull().any(axis = 1)])"
   ]
  },
  {
   "cell_type": "code",
   "execution_count": 30,
   "id": "a42dceae",
   "metadata": {},
   "outputs": [
    {
     "data": {
      "application/vnd.jupyter.widget-view+json": {
       "model_id": "368b0e99a83c4b9280b6b2ddafde4b7c",
       "version_major": 2,
       "version_minor": 0
      },
      "text/plain": [
       "VBox()"
      ]
     },
     "metadata": {},
     "output_type": "display_data"
    },
    {
     "data": {
      "application/vnd.jupyter.widget-view+json": {
       "model_id": "",
       "version_major": 2,
       "version_minor": 0
      },
      "text/plain": [
       "FloatProgress(value=0.0, bar_style='info', description='Progress:', layout=Layout(height='25px', width='50%'),…"
      ]
     },
     "metadata": {},
     "output_type": "display_data"
    },
    {
     "name": "stdout",
     "output_type": "stream",
     "text": [
      "(22278, 26)"
     ]
    }
   ],
   "source": [
    "df_pd_engineered_feature.shape"
   ]
  },
  {
   "cell_type": "code",
   "execution_count": 31,
   "id": "4d90fcc9",
   "metadata": {},
   "outputs": [
    {
     "data": {
      "application/vnd.jupyter.widget-view+json": {
       "model_id": "436e32c4fe0f4b6d979527ef99e58990",
       "version_major": 2,
       "version_minor": 0
      },
      "text/plain": [
       "VBox()"
      ]
     },
     "metadata": {},
     "output_type": "display_data"
    },
    {
     "data": {
      "application/vnd.jupyter.widget-view+json": {
       "model_id": "",
       "version_major": 2,
       "version_minor": 0
      },
      "text/plain": [
       "FloatProgress(value=0.0, bar_style='info', description='Progress:', layout=Layout(height='25px', width='50%'),…"
      ]
     },
     "metadata": {},
     "output_type": "display_data"
    },
    {
     "name": "stdout",
     "output_type": "stream",
     "text": [
      "(22277, 26)"
     ]
    }
   ],
   "source": [
    "df_pd_engineered_feature = df_pd_engineered_feature.dropna(how = 'any', axis = 0)\n",
    "df_pd_engineered_feature.shape"
   ]
  },
  {
   "cell_type": "markdown",
   "id": "2c2080f5",
   "metadata": {},
   "source": [
    "# **Part 3: Modeling** "
   ]
  },
  {
   "cell_type": "markdown",
   "id": "4c48423c",
   "metadata": {},
   "source": [
    "## 3.1_train-test split"
   ]
  },
  {
   "cell_type": "code",
   "execution_count": 32,
   "id": "dc143583",
   "metadata": {},
   "outputs": [
    {
     "data": {
      "application/vnd.jupyter.widget-view+json": {
       "model_id": "4c7f57f308fc4aa8821c469b390fe0c9",
       "version_major": 2,
       "version_minor": 0
      },
      "text/plain": [
       "VBox()"
      ]
     },
     "metadata": {},
     "output_type": "display_data"
    },
    {
     "data": {
      "application/vnd.jupyter.widget-view+json": {
       "model_id": "",
       "version_major": 2,
       "version_minor": 0
      },
      "text/plain": [
       "FloatProgress(value=0.0, bar_style='info', description='Progress:', layout=Layout(height='25px', width='50%'),…"
      ]
     },
     "metadata": {},
     "output_type": "display_data"
    }
   ],
   "source": [
    "dataset = spark.createDataFrame(df_pd_engineered_feature[column_to_keep])"
   ]
  },
  {
   "cell_type": "code",
   "execution_count": 33,
   "id": "ba978e82",
   "metadata": {},
   "outputs": [
    {
     "data": {
      "application/vnd.jupyter.widget-view+json": {
       "model_id": "a0e46def998a47369ca5d7155ce3a71c",
       "version_major": 2,
       "version_minor": 0
      },
      "text/plain": [
       "VBox()"
      ]
     },
     "metadata": {},
     "output_type": "display_data"
    },
    {
     "data": {
      "application/vnd.jupyter.widget-view+json": {
       "model_id": "",
       "version_major": 2,
       "version_minor": 0
      },
      "text/plain": [
       "FloatProgress(value=0.0, bar_style='info', description='Progress:', layout=Layout(height='25px', width='50%'),…"
      ]
     },
     "metadata": {},
     "output_type": "display_data"
    },
    {
     "name": "stdout",
     "output_type": "stream",
     "text": [
      "root\n",
      " |-- userId: string (nullable = true)\n",
      " |-- label: long (nullable = true)\n",
      " |-- gender_bool: double (nullable = true)\n",
      " |-- last_level_bool: double (nullable = true)\n",
      " |-- day_since_registration: double (nullable = true)\n",
      " |-- interaction_per_day: double (nullable = true)\n",
      " |-- song_per_day: double (nullable = true)\n",
      " |-- thump_down_per_day: double (nullable = true)\n",
      " |-- advertisement_per_day: double (nullable = true)\n",
      " |-- setting_per_day: double (nullable = true)\n",
      " |-- error_per_day: double (nullable = true)\n",
      " |-- song_ratio: double (nullable = true)\n",
      " |-- positive_ratio: double (nullable = true)\n",
      " |-- negative_ratio: double (nullable = true)\n",
      " |-- thumb_up_down_ratio: double (nullable = true)\n",
      " |-- plan_change_num: long (nullable = true)\n",
      " |-- trend_interaction: double (nullable = true)\n",
      " |-- average_session_item: double (nullable = true)\n",
      " |-- average_song: double (nullable = true)"
     ]
    }
   ],
   "source": [
    "dataset.printSchema()"
   ]
  },
  {
   "cell_type": "code",
   "execution_count": 60,
   "id": "7447316d",
   "metadata": {},
   "outputs": [
    {
     "data": {
      "application/vnd.jupyter.widget-view+json": {
       "model_id": "536c90700aa44bf48e18aa9581dfed8a",
       "version_major": 2,
       "version_minor": 0
      },
      "text/plain": [
       "VBox()"
      ]
     },
     "metadata": {},
     "output_type": "display_data"
    },
    {
     "data": {
      "application/vnd.jupyter.widget-view+json": {
       "model_id": "",
       "version_major": 2,
       "version_minor": 0
      },
      "text/plain": [
       "FloatProgress(value=0.0, bar_style='info', description='Progress:', layout=Layout(height='25px', width='50%'),…"
      ]
     },
     "metadata": {},
     "output_type": "display_data"
    },
    {
     "name": "stdout",
     "output_type": "stream",
     "text": [
      "Number of churned users in train set: 3738 \n",
      "Number of churned users in test set: 1265\n",
      "\n",
      "Number of non-churned users in train set: 12955 \n",
      "Number of non-churned users in test set: 4319\n",
      "\n",
      "proportion of churned users in the train set: 0.224 \n",
      "proportion of churned users in the test set: 0.227\n",
      "\n",
      "Original dataset: 22277 rows \n",
      "Train set and validation set: 16693 rows \n",
      "Test set: 5584 rows \n",
      "Train:Test = 0.749:0.251"
     ]
    }
   ],
   "source": [
    "# Train-test split\n",
    "churn_train, churn_test = \\\n",
    "dataset.drop('userId').filter( dataset.label == 1 ).randomSplit([0.755, 0.245], seed = 40)\n",
    "\n",
    "non_churn_train, non_churn_test = \\\n",
    "dataset.drop('userId').filter( dataset.label == 0 ).randomSplit([0.75, 0.25], seed = 40)\n",
    "\n",
    "train_set = \\\n",
    "churn_train.union(non_churn_train)\n",
    "\n",
    "test_set = \\\n",
    "churn_test.union(non_churn_test)\n",
    "\n",
    "# Ensure that proportions of churned users in the train set and the test set \n",
    "# are similar\n",
    "proportion_of_churned_train = churn_train.count() / train_set.count()\n",
    "proportion_of_churned_test = churn_test.count() / test_set.count()\n",
    "\n",
    "print(f'Number of churned users in train set: {churn_train.count()}', \\\n",
    "      f'\\nNumber of churned users in test set: {churn_test.count()}')\n",
    "\n",
    "print(f'\\nNumber of non-churned users in train set: {non_churn_train.count()}', \\\n",
    "      f'\\nNumber of non-churned users in test set: {non_churn_test.count()}')\n",
    "\n",
    "print(f'\\nproportion of churned users in the train set: {proportion_of_churned_train:.3f}', \\\n",
    "      f'\\nproportion of churned users in the test set: {proportion_of_churned_test:.3f}')\n",
    "\n",
    "print(f'\\nOriginal dataset: {dataset.count()} rows', \\\n",
    "      f'\\nTrain set and validation set: {train_set.count()} rows', \\\n",
    "      f'\\nTest set: {test_set.count()} rows', \\\n",
    "      f'\\nTrain:Test = {train_set.count() / dataset.count():.3f}:{test_set.count() / dataset.count():.3f}')"
   ]
  },
  {
   "cell_type": "markdown",
   "id": "a3e48c49",
   "metadata": {},
   "source": [
    "## 3.2_pipeline functions [ train_and_eval(), train_model(), build_CV(), evaluate_model() ]"
   ]
  },
  {
   "cell_type": "code",
   "execution_count": 61,
   "id": "3343627b",
   "metadata": {},
   "outputs": [
    {
     "data": {
      "application/vnd.jupyter.widget-view+json": {
       "model_id": "51b503f38a2f480e8889dbf76ae54af1",
       "version_major": 2,
       "version_minor": 0
      },
      "text/plain": [
       "VBox()"
      ]
     },
     "metadata": {},
     "output_type": "display_data"
    },
    {
     "data": {
      "application/vnd.jupyter.widget-view+json": {
       "model_id": "",
       "version_major": 2,
       "version_minor": 0
      },
      "text/plain": [
       "FloatProgress(value=0.0, bar_style='info', description='Progress:', layout=Layout(height='25px', width='50%'),…"
      ]
     },
     "metadata": {},
     "output_type": "display_data"
    }
   ],
   "source": [
    "def build_CV(classifier, paramGrid, feature_cols):\n",
    "    '''\n",
    "    Build a pipeline with or without the cross validation\n",
    "    \n",
    "    INPUT:\n",
    "      classifier - a untrained machine learning classifier supported by Spark\n",
    "      paramGrid (list) - a list of hyperparameters to search over\n",
    "    \n",
    "    OUTPUT:\n",
    "      crossval (Pipeline/CrossValidator) - Pipeline or cross validator object\n",
    "    '''\n",
    "    # Configure a ML pipeline\n",
    "\n",
    "    # it vectorizes the input features\n",
    "    assembler = VectorAssembler(inputCols = feature_cols, \\\n",
    "                                outputCol = \"rawFeatures\")\n",
    "\n",
    "    # it standardizes the numerical features\n",
    "    scaler = StandardScaler(inputCol = \"rawFeatures\", \\\n",
    "                            outputCol = \"scaledFeatures\",\\\n",
    "                            withStd = True, \\\n",
    "                            withMean = True)\n",
    "\n",
    "    # define a pipeline object\n",
    "    pipeline = Pipeline(stages = [assembler, scaler, classifier])\n",
    "\n",
    "    if paramGrid[0]:\n",
    "        # define an object for cross validation\n",
    "        crossval = CrossValidator( \n",
    "                                  estimator = pipeline,\n",
    "                                  estimatorParamMaps = paramGrid,\n",
    "                                  evaluator = BinaryClassificationEvaluator(metricName = 'areaUnderPR'),\n",
    "                                  numFolds = 3,\n",
    "                                  seed = 40\n",
    "        )\n",
    "\n",
    "    else:\n",
    "        crossval = pipeline\n",
    "\n",
    "    return crossval\n",
    "\n",
    "def train_model(classifier, train, paramGrid, feature_cols):\n",
    "    '''\n",
    "    Fit pipeline or cross validator that have a machine learning classifier\n",
    "    \n",
    "    INPUT:\n",
    "      classifier - untrained machine learning classifier\n",
    "      paramGrid (list) - a list of hyperparameters to search over\n",
    "      train (Spark dataframe) - train set\n",
    "    \n",
    "    OUTPUT:\n",
    "      model (PipelineModel / CrossValidatorModel) - a trained machine learning model\n",
    "      training_time (float) - training time\n",
    "    '''\n",
    "    cross_val = build_CV(classifier, paramGrid, feature_cols) # obtain the object to be trained\n",
    "    start = time()\n",
    "    model = cross_val.fit(train) # train the model with the train set\n",
    "    end = time()\n",
    "    training_time = end - start\n",
    "\n",
    "    return model, training_time"
   ]
  },
  {
   "cell_type": "code",
   "execution_count": 62,
   "id": "7b0c78ac",
   "metadata": {},
   "outputs": [
    {
     "data": {
      "application/vnd.jupyter.widget-view+json": {
       "model_id": "36f84e9ecde340a69367ad34cac4c00a",
       "version_major": 2,
       "version_minor": 0
      },
      "text/plain": [
       "VBox()"
      ]
     },
     "metadata": {},
     "output_type": "display_data"
    },
    {
     "data": {
      "application/vnd.jupyter.widget-view+json": {
       "model_id": "",
       "version_major": 2,
       "version_minor": 0
      },
      "text/plain": [
       "FloatProgress(value=0.0, bar_style='info', description='Progress:', layout=Layout(height='25px', width='50%'),…"
      ]
     },
     "metadata": {},
     "output_type": "display_data"
    }
   ],
   "source": [
    "def evaluate_model(model, data, prob = False):\n",
    "    '''\n",
    "    Evaluate the trained model\n",
    "    \n",
    "    INPUT:\n",
    "      model (PipelineModel / CrossValidatorModel) - a trained machine learning model\n",
    "      data (Spark dataframe) - training set or testing set\n",
    "    \n",
    "    OUTPUT:\n",
    "      evalMetrics (dict): disctionary of evaluation metrics\n",
    "    '''\n",
    "    start = time()\n",
    "    pred = model.transform(data) # make prediction\n",
    "\n",
    "    # define evaluators\n",
    "    if prob:\n",
    "        evaluator = MulticlassClassificationEvaluator(predictionCol = \"probability\", labelCol = \"label\")\n",
    "    else:\n",
    "        evaluator = MulticlassClassificationEvaluator(predictionCol = \"prediction\", labelCol = \"label\")\n",
    "\n",
    "    evaluator_areaUnderPR = BinaryClassificationEvaluator(metricName = 'areaUnderPR')\n",
    "\n",
    "    end = time()\n",
    "    prediction_time = end - start\n",
    "    \n",
    "    # Calculate metrics\n",
    "    evalMetrics = {}\n",
    "    evalMetrics[\"areaUnderPR\"] = evaluator_areaUnderPR.evaluate(pred)\n",
    "    evalMetrics[\"f1\"] = evaluator.evaluate(pred, {evaluator.metricName: \"f1\"})\n",
    "    evalMetrics['confusion_matrix'] = pred.groupby(\"label\").pivot(\"prediction\").count()\n",
    "    evalMetrics['prediction_time'] = prediction_time\n",
    "    \n",
    "    return evalMetrics"
   ]
  },
  {
   "cell_type": "code",
   "execution_count": 63,
   "id": "1c8056d2",
   "metadata": {},
   "outputs": [
    {
     "data": {
      "application/vnd.jupyter.widget-view+json": {
       "model_id": "5752672ce3c0491eaef6aff159f524e3",
       "version_major": 2,
       "version_minor": 0
      },
      "text/plain": [
       "VBox()"
      ]
     },
     "metadata": {},
     "output_type": "display_data"
    },
    {
     "data": {
      "application/vnd.jupyter.widget-view+json": {
       "model_id": "",
       "version_major": 2,
       "version_minor": 0
      },
      "text/plain": [
       "FloatProgress(value=0.0, bar_style='info', description='Progress:', layout=Layout(height='25px', width='50%'),…"
      ]
     },
     "metadata": {},
     "output_type": "display_data"
    }
   ],
   "source": [
    "# lump all steps together\n",
    "def train_and_eval(classifier, train, test, paramGrid, feature_cols):\n",
    "    '''\n",
    "    Train and evaluate model performance on both training and testing sets\n",
    "    \n",
    "    INPUT:\n",
    "      classifier - a untrained machine learning classifier\n",
    "      train (Spark dataframe) - train set\n",
    "      test (Spark dataframe) - test set\n",
    "      paramGrid (list) - a list of hyperparameters to search over\n",
    "    \n",
    "    OUTPUT:\n",
    "      evalMetrics (dict) - dictionary of evaluation metrics, \n",
    "      summary (Spark dataframe) - table of evaluation metrics\n",
    "      model (PipelineModel / CrossValidatorModel) - trained machine learning model\n",
    "    '''\n",
    "    # train the model\n",
    "    model, training_time = train_model(classifier, train, paramGrid, feature_cols)\n",
    "    \n",
    "    # evaluate model performance\n",
    "    eval_Metrics_Training = evaluate_model(model, train)\n",
    "    eval_Metrics_Testing = evaluate_model(model, test)\n",
    "\n",
    "    # compile metrics\n",
    "    evalMetrics = {}\n",
    "    evalMetrics['PR_train'] = eval_Metrics_Training['areaUnderPR']\n",
    "    evalMetrics['f1_train'] = eval_Metrics_Training['f1']\n",
    "    evalMetrics['PR_test'] = eval_Metrics_Testing['areaUnderPR']\n",
    "    evalMetrics['f1_test'] = eval_Metrics_Testing['f1']\n",
    "\n",
    "    evalMetrics['confusion_matrix_test'] = eval_Metrics_Testing['confusion_matrix']\n",
    "\n",
    "    evalMetrics['train_time'] = training_time\n",
    "    evalMetrics['pred_time'] = eval_Metrics_Training['prediction_time'] \\\n",
    "                               + eval_Metrics_Testing['prediction_time']\n",
    "\n",
    "    # convert metrics into a Spark dataframe\n",
    "    metrics_to_display = \\\n",
    "    {\n",
    "        k:round(v, 4) for k, v in evalMetrics.items() if ('confusion_matrix' not in k)\n",
    "    }\n",
    "    \n",
    "    summary = spark.createDataFrame(pd.DataFrame([metrics_to_display], columns = metrics_to_display.keys()))\n",
    "    \n",
    "    return evalMetrics, summary, model"
   ]
  },
  {
   "cell_type": "markdown",
   "id": "fe8a9427",
   "metadata": {},
   "source": [
    "## 3.3_train logistic regression with default hyperparameters"
   ]
  },
  {
   "cell_type": "markdown",
   "id": "9b808a92",
   "metadata": {},
   "source": [
    "### 3.2.3.0_determine input futures"
   ]
  },
  {
   "cell_type": "code",
   "execution_count": 64,
   "id": "79092a16",
   "metadata": {},
   "outputs": [
    {
     "data": {
      "application/vnd.jupyter.widget-view+json": {
       "model_id": "818da309e8f645dcb09767820fb25765",
       "version_major": 2,
       "version_minor": 0
      },
      "text/plain": [
       "VBox()"
      ]
     },
     "metadata": {},
     "output_type": "display_data"
    },
    {
     "data": {
      "application/vnd.jupyter.widget-view+json": {
       "model_id": "",
       "version_major": 2,
       "version_minor": 0
      },
      "text/plain": [
       "FloatProgress(value=0.0, bar_style='info', description='Progress:', layout=Layout(height='25px', width='50%'),…"
      ]
     },
     "metadata": {},
     "output_type": "display_data"
    },
    {
     "name": "stdout",
     "output_type": "stream",
     "text": [
      "['gender_bool', 'last_level_bool', 'day_since_registration', 'interaction_per_day', 'song_per_day', 'thump_down_per_day', 'advertisement_per_day', 'setting_per_day', 'error_per_day', 'song_ratio', 'positive_ratio', 'negative_ratio', 'thumb_up_down_ratio', 'plan_change_num', 'trend_interaction', 'average_session_item', 'average_song']"
     ]
    }
   ],
   "source": [
    "# Define input feature columns for the model training\n",
    "feature_cols = dataset.drop('label', 'userId').columns\n",
    "               \n",
    "feature_cols"
   ]
  },
  {
   "cell_type": "markdown",
   "id": "1705b70e",
   "metadata": {},
   "source": [
    "### 3.2.3.1_evaluation functions [ start_train(), print_coefficient_importance() ]"
   ]
  },
  {
   "cell_type": "code",
   "execution_count": 65,
   "id": "efe6c629",
   "metadata": {},
   "outputs": [
    {
     "data": {
      "application/vnd.jupyter.widget-view+json": {
       "model_id": "8bfcf4f068b747a5a2c7ef35fef9383e",
       "version_major": 2,
       "version_minor": 0
      },
      "text/plain": [
       "VBox()"
      ]
     },
     "metadata": {},
     "output_type": "display_data"
    },
    {
     "data": {
      "application/vnd.jupyter.widget-view+json": {
       "model_id": "",
       "version_major": 2,
       "version_minor": 0
      },
      "text/plain": [
       "FloatProgress(value=0.0, bar_style='info', description='Progress:', layout=Layout(height='25px', width='50%'),…"
      ]
     },
     "metadata": {},
     "output_type": "display_data"
    }
   ],
   "source": [
    "def return_coefficient_importance(model, \n",
    "                                 is_coeff = True, \n",
    "                                 feature_name = feature_cols):\n",
    "  '''\n",
    "  Return the feature coefficients or importance of the trained model\n",
    "  \n",
    "  INPUT:\n",
    "    model (PipelineModel / CrossValidatorModel) - a trained machine learning model\n",
    "    is_coeff (bool) - tell the function if it can find feature coefficients \n",
    "                     from the trained model\n",
    "  \n",
    "  OUTPUT:\n",
    "    df_pd_coefficient_importance (pandas dataframe) - dataframe of feature \n",
    "                                                      coefficients or importance \n",
    "  '''\n",
    "  # get the values of feature coefficients or importances\n",
    "  coeff_or_feature_importance = \\\n",
    "  model.stages[-1].coefficients if is_coeff else model.stages[-1].featureImportances\n",
    "\n",
    "  # convert the values of feature coefficients or importances into a list\n",
    "  list_temp = [coeff_or_feature_importance[i] for i in range(len(coeff_or_feature_importance))]\n",
    "\n",
    "  # convert the list of feature coefficients or importances into pandas dataframe\n",
    "  df_pd_coefficient_importance = \\\n",
    "  pd.DataFrame({\"feature\": feature_name, \"coefficient\": list_temp})\\\n",
    "              .sort_values('coefficient', ascending = False)\n",
    "\n",
    "  return df_pd_coefficient_importance"
   ]
  },
  {
   "cell_type": "code",
   "execution_count": 66,
   "id": "ae225393",
   "metadata": {},
   "outputs": [
    {
     "data": {
      "application/vnd.jupyter.widget-view+json": {
       "model_id": "3b125038fa544a18ae69f8c17702dc85",
       "version_major": 2,
       "version_minor": 0
      },
      "text/plain": [
       "VBox()"
      ]
     },
     "metadata": {},
     "output_type": "display_data"
    },
    {
     "data": {
      "application/vnd.jupyter.widget-view+json": {
       "model_id": "",
       "version_major": 2,
       "version_minor": 0
      },
      "text/plain": [
       "FloatProgress(value=0.0, bar_style='info', description='Progress:', layout=Layout(height='25px', width='50%'),…"
      ]
     },
     "metadata": {},
     "output_type": "display_data"
    }
   ],
   "source": [
    "def start_train(classifier, \n",
    "                text,\n",
    "                train = train_set,\n",
    "                test = test_set,\n",
    "                feature_cols = feature_cols,\n",
    "                param_grid = ParamGridBuilder().build()):\n",
    "  '''\n",
    "  Starter function for training a classifier\n",
    "  \n",
    "  INPUT:\n",
    "    classifier - a untrained machine learning classifier supported by Spark\n",
    "    text (str) - name of the classifier\n",
    "    train (Spark dataframe) - train set\n",
    "    test (Spark dataframe) - test set\n",
    "    feature_cols (list) - a list of features for training the model\n",
    "    paramGrid (list) - a list of hyperparameters to search over\n",
    "  \n",
    "  OUTPUT:\n",
    "    best_model - the trained model\n",
    "    eval_metric (dict) - dictionary of evaluation metrics\n",
    "    summary (Spark dataframe) - table of evaluation metrics\n",
    "  '''\n",
    "  # start training the input classifier\n",
    "  eval_metric, summary, model = \\\n",
    "  train_and_eval(classifier, train, test, param_grid, feature_cols)\n",
    "\n",
    "  if param_grid[0]:\n",
    "      best_model = model.bestModel # save the best model\n",
    "\n",
    "  else:\n",
    "      best_model = model\n",
    "\n",
    "  #sShow metrics\n",
    "  print(text, ':')\n",
    "  summary.show()\n",
    "\n",
    "  return best_model, eval_metric, summary"
   ]
  },
  {
   "cell_type": "markdown",
   "id": "f46ae791",
   "metadata": {},
   "source": [
    "### 3.2.3.2_train logistic regression"
   ]
  },
  {
   "cell_type": "code",
   "execution_count": 67,
   "id": "2cf9e04d",
   "metadata": {},
   "outputs": [
    {
     "data": {
      "application/vnd.jupyter.widget-view+json": {
       "model_id": "5eb0422edf0946b1a93daccca08a211f",
       "version_major": 2,
       "version_minor": 0
      },
      "text/plain": [
       "VBox()"
      ]
     },
     "metadata": {},
     "output_type": "display_data"
    },
    {
     "data": {
      "application/vnd.jupyter.widget-view+json": {
       "model_id": "",
       "version_major": 2,
       "version_minor": 0
      },
      "text/plain": [
       "FloatProgress(value=0.0, bar_style='info', description='Progress:', layout=Layout(height='25px', width='50%'),…"
      ]
     },
     "metadata": {},
     "output_type": "display_data"
    },
    {
     "name": "stdout",
     "output_type": "stream",
     "text": [
      "Logistic Regression (initial) :\n",
      "+--------+--------+-------+-------+----------+---------+\n",
      "|PR_train|f1_train|PR_test|f1_test|train_time|pred_time|\n",
      "+--------+--------+-------+-------+----------+---------+\n",
      "|  0.7359|   0.845| 0.7339| 0.8418|     8.274|   0.1468|\n",
      "+--------+--------+-------+-------+----------+---------+"
     ]
    }
   ],
   "source": [
    "# Train and evaluate the logistic regression\n",
    "classifier_LR = \\\n",
    "LogisticRegression(labelCol = \"label\", \n",
    "                   featuresCol = \"scaledFeatures\")\n",
    "\n",
    "best_model_LR, eval_metric_LR, summary_LR = \\\n",
    "start_train(classifier = classifier_LR,\n",
    "            text = 'Logistic Regression (initial)')"
   ]
  },
  {
   "cell_type": "markdown",
   "id": "a216c8c7",
   "metadata": {},
   "source": [
    "## 3.4_refinement - logistic regression"
   ]
  },
  {
   "cell_type": "markdown",
   "id": "8e1e2ff9",
   "metadata": {},
   "source": [
    "### 3.4.1_grid search"
   ]
  },
  {
   "cell_type": "code",
   "execution_count": 68,
   "id": "ae0a7007",
   "metadata": {},
   "outputs": [
    {
     "data": {
      "application/vnd.jupyter.widget-view+json": {
       "model_id": "23938822d5734041980713fd68f301d7",
       "version_major": 2,
       "version_minor": 0
      },
      "text/plain": [
       "VBox()"
      ]
     },
     "metadata": {},
     "output_type": "display_data"
    },
    {
     "data": {
      "application/vnd.jupyter.widget-view+json": {
       "model_id": "",
       "version_major": 2,
       "version_minor": 0
      },
      "text/plain": [
       "FloatProgress(value=0.0, bar_style='info', description='Progress:', layout=Layout(height='25px', width='50%'),…"
      ]
     },
     "metadata": {},
     "output_type": "display_data"
    },
    {
     "name": "stdout",
     "output_type": "stream",
     "text": [
      "Logistic Regression (grid search) :\n",
      "+--------+--------+-------+-------+----------+---------+\n",
      "|PR_train|f1_train|PR_test|f1_test|train_time|pred_time|\n",
      "+--------+--------+-------+-------+----------+---------+\n",
      "|  0.7357|  0.8452| 0.7336| 0.8412|  218.1774|   0.1658|\n",
      "+--------+--------+-------+-------+----------+---------+\n",
      "\n",
      "Best combination of hyperparameters:\n",
      "elasticNetParam:  0.0\n",
      "regParam:  2e-06\n",
      "maxIter:  50"
     ]
    }
   ],
   "source": [
    "# Refine the logistic regression model by grid searching\n",
    "classifier_LR_grid = \\\n",
    "LogisticRegression(labelCol = \"label\", \n",
    "                   featuresCol = \"scaledFeatures\")\n",
    "\n",
    "# define hyperparameters to search over\n",
    "param_grid = \\\n",
    "ParamGridBuilder().addGrid(classifier_LR_grid.regParam, [0, 1e-6, 2e-6, 3e-6, 4e-6])\\\n",
    "                  .addGrid(classifier_LR_grid.elasticNetParam, [0])\\\n",
    "                  .addGrid(classifier_LR_grid.maxIter, [25, 50, 100])\\\n",
    "                  .build()\n",
    "\n",
    "# train and evaluate the model\n",
    "best_model_LR_grid, eval_metric_LR_grid, summary_LR_grid = \\\n",
    "start_train(classifier = classifier_LR_grid,\n",
    "            text = 'Logistic Regression (grid search)',\n",
    "            param_grid = param_grid)\n",
    "\n",
    "best_model_stage_3 = best_model_LR_grid.stages[2]\n",
    "print('Best combination of hyperparameters:')\n",
    "print('elasticNetParam: ', best_model_stage_3.extractParamMap()[best_model_stage_3.elasticNetParam])\n",
    "print('regParam: ', best_model_stage_3.extractParamMap()[best_model_stage_3.regParam])\n",
    "print('maxIter: ', best_model_stage_3.extractParamMap()[best_model_stage_3.maxIter])"
   ]
  },
  {
   "cell_type": "code",
   "execution_count": 69,
   "id": "ea2f609d",
   "metadata": {},
   "outputs": [
    {
     "data": {
      "application/vnd.jupyter.widget-view+json": {
       "model_id": "ce03c0ccff1c4e478852655339bd88c8",
       "version_major": 2,
       "version_minor": 0
      },
      "text/plain": [
       "VBox()"
      ]
     },
     "metadata": {},
     "output_type": "display_data"
    },
    {
     "data": {
      "application/vnd.jupyter.widget-view+json": {
       "model_id": "",
       "version_major": 2,
       "version_minor": 0
      },
      "text/plain": [
       "FloatProgress(value=0.0, bar_style='info', description='Progress:', layout=Layout(height='25px', width='50%'),…"
      ]
     },
     "metadata": {},
     "output_type": "display_data"
    }
   ],
   "source": [
    "is_L2 = best_model_stage_3.extractParamMap()[best_model_stage_3.elasticNetParam]\n",
    "reg_param = best_model_stage_3.extractParamMap()[best_model_stage_3.regParam]\n",
    "max_iter = best_model_stage_3.extractParamMap()[best_model_stage_3.maxIter]"
   ]
  },
  {
   "cell_type": "markdown",
   "id": "530904d0",
   "metadata": {},
   "source": [
    "### 3.4.2_remove less important features"
   ]
  },
  {
   "cell_type": "code",
   "execution_count": 70,
   "id": "f943fd71",
   "metadata": {},
   "outputs": [
    {
     "data": {
      "application/vnd.jupyter.widget-view+json": {
       "model_id": "5a19c0e0ff7146e8857d174d1642ecdc",
       "version_major": 2,
       "version_minor": 0
      },
      "text/plain": [
       "VBox()"
      ]
     },
     "metadata": {},
     "output_type": "display_data"
    },
    {
     "data": {
      "application/vnd.jupyter.widget-view+json": {
       "model_id": "",
       "version_major": 2,
       "version_minor": 0
      },
      "text/plain": [
       "FloatProgress(value=0.0, bar_style='info', description='Progress:', layout=Layout(height='25px', width='50%'),…"
      ]
     },
     "metadata": {},
     "output_type": "display_data"
    },
    {
     "name": "stdout",
     "output_type": "stream",
     "text": [
      "                   feature  coefficient\n",
      "3      interaction_per_day    15.932083\n",
      "6    advertisement_per_day     2.234649\n",
      "1          last_level_bool     0.571159\n",
      "5       thump_down_per_day     0.488728\n",
      "14       trend_interaction     0.265628\n",
      "7          setting_per_day     0.259764\n",
      "16            average_song     0.209835\n",
      "11          negative_ratio     0.068993\n",
      "12     thumb_up_down_ratio     0.066860\n",
      "0              gender_bool    -0.014972\n",
      "15    average_session_item    -0.022972\n",
      "8            error_per_day    -0.254462\n",
      "9               song_ratio    -0.336648\n",
      "10          positive_ratio    -0.506109\n",
      "2   day_since_registration    -0.636986\n",
      "13         plan_change_num    -0.639716\n",
      "4             song_per_day   -14.939554"
     ]
    }
   ],
   "source": [
    "# display the values of feature coefficients in descending order\n",
    "df_coeff = return_coefficient_importance(model = best_model_LR_grid, is_coeff = True)\n",
    "df_coeff"
   ]
  },
  {
   "cell_type": "code",
   "execution_count": 71,
   "id": "6a5a920a",
   "metadata": {},
   "outputs": [
    {
     "data": {
      "application/vnd.jupyter.widget-view+json": {
       "model_id": "f6b6058715494c1ab3b8d67215599335",
       "version_major": 2,
       "version_minor": 0
      },
      "text/plain": [
       "VBox()"
      ]
     },
     "metadata": {},
     "output_type": "display_data"
    },
    {
     "data": {
      "application/vnd.jupyter.widget-view+json": {
       "model_id": "",
       "version_major": 2,
       "version_minor": 0
      },
      "text/plain": [
       "FloatProgress(value=0.0, bar_style='info', description='Progress:', layout=Layout(height='25px', width='50%'),…"
      ]
     },
     "metadata": {},
     "output_type": "display_data"
    },
    {
     "name": "stdout",
     "output_type": "stream",
     "text": [
      "                   feature  coefficient\n",
      "0      interaction_per_day    15.932083\n",
      "1             song_per_day    14.939554\n",
      "2    advertisement_per_day     2.234649\n",
      "3          plan_change_num     0.639716\n",
      "4   day_since_registration     0.636986\n",
      "5          last_level_bool     0.571159\n",
      "6           positive_ratio     0.506109\n",
      "7       thump_down_per_day     0.488728\n",
      "8               song_ratio     0.336648\n",
      "9        trend_interaction     0.265628\n",
      "10         setting_per_day     0.259764\n",
      "11           error_per_day     0.254462\n",
      "12            average_song     0.209835\n",
      "13          negative_ratio     0.068993\n",
      "14     thumb_up_down_ratio     0.066860\n",
      "15    average_session_item     0.022972\n",
      "16             gender_bool     0.014972"
     ]
    }
   ],
   "source": [
    "# display the absolute values of feature coefficients in descending order\n",
    "df_coeff['coefficient'] = abs(df_coeff['coefficient'])\n",
    "df_coeff = df_coeff.sort_values(by = ['coefficient'], ascending = False).reset_index(drop = True)\n",
    "df_coeff"
   ]
  },
  {
   "cell_type": "code",
   "execution_count": 72,
   "id": "5e5accbb",
   "metadata": {},
   "outputs": [
    {
     "data": {
      "application/vnd.jupyter.widget-view+json": {
       "model_id": "af77c8d9242c49949597f4693ed57d07",
       "version_major": 2,
       "version_minor": 0
      },
      "text/plain": [
       "VBox()"
      ]
     },
     "metadata": {},
     "output_type": "display_data"
    },
    {
     "data": {
      "application/vnd.jupyter.widget-view+json": {
       "model_id": "",
       "version_major": 2,
       "version_minor": 0
      },
      "text/plain": [
       "FloatProgress(value=0.0, bar_style='info', description='Progress:', layout=Layout(height='25px', width='50%'),…"
      ]
     },
     "metadata": {},
     "output_type": "display_data"
    },
    {
     "name": "stdout",
     "output_type": "stream",
     "text": [
      "Logistic Regression_remove_0 with ['last_level_bool', 'day_since_registration', 'interaction_per_day', 'song_per_day', 'thump_down_per_day', 'advertisement_per_day', 'setting_per_day', 'error_per_day', 'song_ratio', 'positive_ratio', 'negative_ratio', 'thumb_up_down_ratio', 'plan_change_num', 'trend_interaction', 'average_session_item', 'average_song'] :\n",
      "+--------+--------+-------+-------+----------+---------+\n",
      "|PR_train|f1_train|PR_test|f1_test|train_time|pred_time|\n",
      "+--------+--------+-------+-------+----------+---------+\n",
      "|  0.7355|  0.8454|  0.734| 0.8412|    5.6599|   0.1879|\n",
      "+--------+--------+-------+-------+----------+---------+\n",
      "\n",
      "Logistic Regression_remove_1 with ['last_level_bool', 'day_since_registration', 'interaction_per_day', 'song_per_day', 'thump_down_per_day', 'advertisement_per_day', 'setting_per_day', 'error_per_day', 'song_ratio', 'positive_ratio', 'negative_ratio', 'thumb_up_down_ratio', 'plan_change_num', 'trend_interaction', 'average_song'] :\n",
      "+--------+--------+-------+-------+----------+---------+\n",
      "|PR_train|f1_train|PR_test|f1_test|train_time|pred_time|\n",
      "+--------+--------+-------+-------+----------+---------+\n",
      "|  0.7359|  0.8449| 0.7339| 0.8423|    4.9272|   0.1819|\n",
      "+--------+--------+-------+-------+----------+---------+\n",
      "\n",
      "Logistic Regression_remove_2 with ['last_level_bool', 'day_since_registration', 'interaction_per_day', 'song_per_day', 'thump_down_per_day', 'advertisement_per_day', 'setting_per_day', 'error_per_day', 'song_ratio', 'positive_ratio', 'negative_ratio', 'plan_change_num', 'trend_interaction', 'average_song'] :\n",
      "+--------+--------+-------+-------+----------+---------+\n",
      "|PR_train|f1_train|PR_test|f1_test|train_time|pred_time|\n",
      "+--------+--------+-------+-------+----------+---------+\n",
      "|  0.7356|  0.8453| 0.7341| 0.8422|     5.058|   0.1851|\n",
      "+--------+--------+-------+-------+----------+---------+\n",
      "\n",
      "Logistic Regression_remove_3 with ['last_level_bool', 'day_since_registration', 'interaction_per_day', 'song_per_day', 'thump_down_per_day', 'advertisement_per_day', 'setting_per_day', 'error_per_day', 'song_ratio', 'positive_ratio', 'plan_change_num', 'trend_interaction', 'average_song'] :\n",
      "+--------+--------+-------+-------+----------+---------+\n",
      "|PR_train|f1_train|PR_test|f1_test|train_time|pred_time|\n",
      "+--------+--------+-------+-------+----------+---------+\n",
      "|  0.7356|  0.8452| 0.7336| 0.8409|    4.4741|   0.2535|\n",
      "+--------+--------+-------+-------+----------+---------+\n",
      "\n",
      "Logistic Regression_remove_4 with ['last_level_bool', 'day_since_registration', 'interaction_per_day', 'song_per_day', 'thump_down_per_day', 'advertisement_per_day', 'setting_per_day', 'error_per_day', 'song_ratio', 'positive_ratio', 'plan_change_num', 'trend_interaction'] :\n",
      "+--------+--------+-------+-------+----------+---------+\n",
      "|PR_train|f1_train|PR_test|f1_test|train_time|pred_time|\n",
      "+--------+--------+-------+-------+----------+---------+\n",
      "|  0.7341|   0.844| 0.7304| 0.8404|    4.8355|   0.1397|\n",
      "+--------+--------+-------+-------+----------+---------+\n",
      "\n",
      "Logistic Regression_remove_5 with ['last_level_bool', 'day_since_registration', 'interaction_per_day', 'song_per_day', 'thump_down_per_day', 'advertisement_per_day', 'setting_per_day', 'song_ratio', 'positive_ratio', 'plan_change_num', 'trend_interaction'] :\n",
      "+--------+--------+-------+-------+----------+---------+\n",
      "|PR_train|f1_train|PR_test|f1_test|train_time|pred_time|\n",
      "+--------+--------+-------+-------+----------+---------+\n",
      "|   0.734|  0.8449| 0.7308| 0.8398|    4.0543|    0.156|\n",
      "+--------+--------+-------+-------+----------+---------+\n",
      "\n",
      "Logistic Regression_remove_6 with ['last_level_bool', 'day_since_registration', 'interaction_per_day', 'song_per_day', 'thump_down_per_day', 'advertisement_per_day', 'song_ratio', 'positive_ratio', 'plan_change_num', 'trend_interaction'] :\n",
      "+--------+--------+-------+-------+----------+---------+\n",
      "|PR_train|f1_train|PR_test|f1_test|train_time|pred_time|\n",
      "+--------+--------+-------+-------+----------+---------+\n",
      "|  0.7337|   0.845| 0.7309| 0.8395|    3.2273|   0.1502|\n",
      "+--------+--------+-------+-------+----------+---------+\n",
      "\n",
      "Logistic Regression_remove_7 with ['last_level_bool', 'day_since_registration', 'interaction_per_day', 'song_per_day', 'thump_down_per_day', 'advertisement_per_day', 'song_ratio', 'positive_ratio', 'plan_change_num'] :\n",
      "+--------+--------+-------+-------+----------+---------+\n",
      "|PR_train|f1_train|PR_test|f1_test|train_time|pred_time|\n",
      "+--------+--------+-------+-------+----------+---------+\n",
      "|  0.7289|  0.8418| 0.7267| 0.8371|    3.2718|   0.1048|\n",
      "+--------+--------+-------+-------+----------+---------+\n",
      "\n",
      "Logistic Regression_remove_8 with ['last_level_bool', 'day_since_registration', 'interaction_per_day', 'song_per_day', 'thump_down_per_day', 'advertisement_per_day', 'positive_ratio', 'plan_change_num'] :\n",
      "+--------+--------+-------+-------+----------+---------+\n",
      "|PR_train|f1_train|PR_test|f1_test|train_time|pred_time|\n",
      "+--------+--------+-------+-------+----------+---------+\n",
      "|  0.7282|  0.8416| 0.7243| 0.8354|    3.2939|   0.1247|\n",
      "+--------+--------+-------+-------+----------+---------+\n",
      "\n",
      "Logistic Regression_remove_9 with ['last_level_bool', 'day_since_registration', 'interaction_per_day', 'song_per_day', 'advertisement_per_day', 'positive_ratio', 'plan_change_num'] :\n",
      "+--------+--------+-------+-------+----------+---------+\n",
      "|PR_train|f1_train|PR_test|f1_test|train_time|pred_time|\n",
      "+--------+--------+-------+-------+----------+---------+\n",
      "|  0.7249|    0.84| 0.7205|  0.834|     2.925|   0.1556|\n",
      "+--------+--------+-------+-------+----------+---------+\n",
      "\n",
      "Logistic Regression_remove_10 with ['last_level_bool', 'day_since_registration', 'interaction_per_day', 'song_per_day', 'advertisement_per_day', 'plan_change_num'] :\n",
      "+--------+--------+-------+-------+----------+---------+\n",
      "|PR_train|f1_train|PR_test|f1_test|train_time|pred_time|\n",
      "+--------+--------+-------+-------+----------+---------+\n",
      "|  0.7098|  0.8323| 0.7022| 0.8279|    3.0188|   0.1372|\n",
      "+--------+--------+-------+-------+----------+---------+\n",
      "\n",
      "Logistic Regression_remove_11 with ['day_since_registration', 'interaction_per_day', 'song_per_day', 'advertisement_per_day', 'plan_change_num'] :\n",
      "+--------+--------+-------+-------+----------+---------+\n",
      "|PR_train|f1_train|PR_test|f1_test|train_time|pred_time|\n",
      "+--------+--------+-------+-------+----------+---------+\n",
      "|  0.6985|   0.828| 0.6872| 0.8214|    2.8777|   0.1589|\n",
      "+--------+--------+-------+-------+----------+---------+\n",
      "\n",
      "Logistic Regression_remove_12 with ['interaction_per_day', 'song_per_day', 'advertisement_per_day', 'plan_change_num'] :\n",
      "+--------+--------+-------+-------+----------+---------+\n",
      "|PR_train|f1_train|PR_test|f1_test|train_time|pred_time|\n",
      "+--------+--------+-------+-------+----------+---------+\n",
      "|   0.654|  0.8125| 0.6396| 0.8054|    2.6644|   0.1518|\n",
      "+--------+--------+-------+-------+----------+---------+\n",
      "\n",
      "Logistic Regression_remove_13 with ['interaction_per_day', 'song_per_day', 'advertisement_per_day'] :\n",
      "+--------+--------+-------+-------+----------+---------+\n",
      "|PR_train|f1_train|PR_test|f1_test|train_time|pred_time|\n",
      "+--------+--------+-------+-------+----------+---------+\n",
      "|  0.6106|  0.7984| 0.5964| 0.7857|    2.5814|    0.121|\n",
      "+--------+--------+-------+-------+----------+---------+\n",
      "\n",
      "Logistic Regression_remove_14 with ['interaction_per_day', 'song_per_day'] :\n",
      "+--------+--------+-------+-------+----------+---------+\n",
      "|PR_train|f1_train|PR_test|f1_test|train_time|pred_time|\n",
      "+--------+--------+-------+-------+----------+---------+\n",
      "|  0.5903|  0.7864| 0.5807| 0.7798|    2.3214|   0.1083|\n",
      "+--------+--------+-------+-------+----------+---------+\n",
      "\n",
      "Logistic Regression_remove_15 with ['interaction_per_day'] :\n",
      "+--------+--------+-------+-------+----------+---------+\n",
      "|PR_train|f1_train|PR_test|f1_test|train_time|pred_time|\n",
      "+--------+--------+-------+-------+----------+---------+\n",
      "|  0.4709|  0.7471| 0.4765|  0.737|    1.4159|   0.1285|\n",
      "+--------+--------+-------+-------+----------+---------+"
     ]
    }
   ],
   "source": [
    "# Identify the model having highest PR_test and using less input features\n",
    "# Then, identify the corresponding input features\n",
    "classifier_LR_remove = \\\n",
    "LogisticRegression(labelCol = \"label\", \n",
    "                   featuresCol = \"scaledFeatures\")\n",
    "\n",
    "# adopt the best combination of hyperparameters found by grid searching\n",
    "classifier_LR_remove.setParams(elasticNetParam = is_L2, regParam = reg_param, maxIter = max_iter)\n",
    "\n",
    "feature_col_reduced = feature_cols.copy()\n",
    "coeff_list = df_coeff['feature'].tolist()\n",
    "\n",
    "for i in range(len(coeff_list)):\n",
    "\n",
    "  feature_col_reduced.remove(coeff_list[- 1 - i])\n",
    "\n",
    "  # Train the model and evaluate performance\n",
    "  best_model_LR_remove, eval_metric_LR_remove, summary_LR_remove = \\\n",
    "  start_train(classifier = classifier_LR_remove, \\\n",
    "              text = f\"Logistic Regression_remove_{i} with {feature_col_reduced}\",\n",
    "              feature_cols = feature_col_reduced)\n",
    "  \n",
    "  if len(feature_col_reduced) == 1: break"
   ]
  },
  {
   "cell_type": "code",
   "execution_count": 73,
   "id": "d9497005",
   "metadata": {},
   "outputs": [
    {
     "data": {
      "application/vnd.jupyter.widget-view+json": {
       "model_id": "2f99117603f7472fba8b1d9f603c8636",
       "version_major": 2,
       "version_minor": 0
      },
      "text/plain": [
       "VBox()"
      ]
     },
     "metadata": {},
     "output_type": "display_data"
    },
    {
     "data": {
      "application/vnd.jupyter.widget-view+json": {
       "model_id": "",
       "version_major": 2,
       "version_minor": 0
      },
      "text/plain": [
       "FloatProgress(value=0.0, bar_style='info', description='Progress:', layout=Layout(height='25px', width='50%'),…"
      ]
     },
     "metadata": {},
     "output_type": "display_data"
    }
   ],
   "source": [
    "# best combination of input features\n",
    "# from the model named Logistic Regression_remove_2\n",
    "feature_col_reduced =  \\\n",
    "['last_level_bool', 'day_since_registration', 'interaction_per_day', \n",
    " 'song_per_day', 'thump_down_per_day', 'advertisement_per_day', \n",
    " 'setting_per_day', 'error_per_day', 'song_ratio', \n",
    " 'positive_ratio', 'negative_ratio', 'plan_change_num', \n",
    " 'trend_interaction', 'average_song']"
   ]
  },
  {
   "cell_type": "code",
   "execution_count": 81,
   "id": "79d485c9",
   "metadata": {},
   "outputs": [
    {
     "data": {
      "application/vnd.jupyter.widget-view+json": {
       "model_id": "756caf31ef314ff996ea8e1d11cdd1e1",
       "version_major": 2,
       "version_minor": 0
      },
      "text/plain": [
       "VBox()"
      ]
     },
     "metadata": {},
     "output_type": "display_data"
    },
    {
     "data": {
      "application/vnd.jupyter.widget-view+json": {
       "model_id": "",
       "version_major": 2,
       "version_minor": 0
      },
      "text/plain": [
       "FloatProgress(value=0.0, bar_style='info', description='Progress:', layout=Layout(height='25px', width='50%'),…"
      ]
     },
     "metadata": {},
     "output_type": "display_data"
    },
    {
     "name": "stdout",
     "output_type": "stream",
     "text": [
      "Logistic Regression (remove less important features) :\n",
      "+--------+--------+-------+-------+----------+---------+\n",
      "|PR_train|f1_train|PR_test|f1_test|train_time|pred_time|\n",
      "+--------+--------+-------+-------+----------+---------+\n",
      "|  0.7356|  0.8453| 0.7341| 0.8422|    4.0678|   0.1336|\n",
      "+--------+--------+-------+-------+----------+---------+\n",
      "\n",
      "The features remain:\n",
      "\n",
      "['last_level_bool', 'day_since_registration', 'interaction_per_day', 'song_per_day', 'thump_down_per_day', 'advertisement_per_day', 'setting_per_day', 'error_per_day', 'song_ratio', 'positive_ratio', 'negative_ratio', 'plan_change_num', 'trend_interaction', 'average_song']"
     ]
    }
   ],
   "source": [
    "# Train and evaluate model \n",
    "# with the best combination of hyperparameters found by grid search\n",
    "# without less important features\n",
    "classifier_LR_remove = \\\n",
    "LogisticRegression(labelCol = \"label\", \n",
    "                   featuresCol = \"scaledFeatures\")\n",
    "\n",
    "classifier_LR_remove.setParams(elasticNetParam = is_L2, regParam = reg_param, maxIter = max_iter)\n",
    "\n",
    "best_model_LR_remove, eval_metric_LR_remove, summary_LR_remove = \\\n",
    "start_train(classifier = classifier_LR_remove,\n",
    "            text = 'Logistic Regression (remove less important features)',\n",
    "            feature_cols = feature_col_reduced)\n",
    "\n",
    "print('The features remain:\\n')\n",
    "feature_col_reduced"
   ]
  },
  {
   "cell_type": "markdown",
   "id": "e6a05391",
   "metadata": {},
   "source": [
    "### 3.4.3_weighted classes"
   ]
  },
  {
   "cell_type": "markdown",
   "id": "5e4166ae",
   "metadata": {},
   "source": [
    "This measure did not work well for the full dataset"
   ]
  },
  {
   "cell_type": "code",
   "execution_count": 79,
   "id": "5e8f636c",
   "metadata": {},
   "outputs": [
    {
     "data": {
      "application/vnd.jupyter.widget-view+json": {
       "model_id": "543136e4e9854b789649d891659c920c",
       "version_major": 2,
       "version_minor": 0
      },
      "text/plain": [
       "VBox()"
      ]
     },
     "metadata": {},
     "output_type": "display_data"
    },
    {
     "data": {
      "application/vnd.jupyter.widget-view+json": {
       "model_id": "",
       "version_major": 2,
       "version_minor": 0
      },
      "text/plain": [
       "FloatProgress(value=0.0, bar_style='info', description='Progress:', layout=Layout(height='25px', width='50%'),…"
      ]
     },
     "metadata": {},
     "output_type": "display_data"
    }
   ],
   "source": [
    "# Assign different class weights to class 0 and class 1\n",
    "# cal_weight = udf(lambda x: 0.225 if x == 0 else 0.775, DoubleType())\n",
    "\n",
    "# train_set_weighted = train_set.withColumn('class_weight', cal_weight('label'))"
   ]
  },
  {
   "cell_type": "code",
   "execution_count": 80,
   "id": "b33f7f3b",
   "metadata": {},
   "outputs": [
    {
     "data": {
      "application/vnd.jupyter.widget-view+json": {
       "model_id": "29c6d613f14a4f129560888b83bbee88",
       "version_major": 2,
       "version_minor": 0
      },
      "text/plain": [
       "VBox()"
      ]
     },
     "metadata": {},
     "output_type": "display_data"
    },
    {
     "data": {
      "application/vnd.jupyter.widget-view+json": {
       "model_id": "",
       "version_major": 2,
       "version_minor": 0
      },
      "text/plain": [
       "FloatProgress(value=0.0, bar_style='info', description='Progress:', layout=Layout(height='25px', width='50%'),…"
      ]
     },
     "metadata": {},
     "output_type": "display_data"
    },
    {
     "name": "stdout",
     "output_type": "stream",
     "text": [
      "Logistic Regression (classes with weights) :\n",
      "+--------+--------+-------+-------+----------+---------+\n",
      "|PR_train|f1_train|PR_test|f1_test|train_time|pred_time|\n",
      "+--------+--------+-------+-------+----------+---------+\n",
      "|  0.7287|  0.8295| 0.7259| 0.8273|     4.338|   0.1421|\n",
      "+--------+--------+-------+-------+----------+---------+"
     ]
    }
   ],
   "source": [
    "# Train and evaluate the model\n",
    "# with the best combination of hyperparameters found by grid search\n",
    "# without less important features\n",
    "# with unequal class weights\n",
    "# classifier_LR_weighted = \\\n",
    "# LogisticRegression(labelCol = \"label\", \n",
    "#                    featuresCol = \"scaledFeatures\",\n",
    "#                    weightCol = 'class_weight')\n",
    "\n",
    "# classifier_LR_weighted.setParams(elasticNetParam = is_L2, regParam = reg_param, maxIter = max_iter)\n",
    "\n",
    "# best_model_LR_weighted, eval_metric_LR_weighted, summary_LR_weighted = \\\n",
    "# start_train(classifier = classifier_LR_weighted, \\\n",
    "#             text = 'Logistic Regression (classes with weights)',\n",
    "#             feature_cols = feature_col_reduced,\n",
    "#             train = train_set_weighted)"
   ]
  },
  {
   "cell_type": "markdown",
   "id": "4de1aece",
   "metadata": {},
   "source": [
    "### 3.4.4_threshold"
   ]
  },
  {
   "cell_type": "code",
   "execution_count": 84,
   "id": "ccc10ec1",
   "metadata": {},
   "outputs": [
    {
     "data": {
      "application/vnd.jupyter.widget-view+json": {
       "model_id": "45844c99d50247edb1b38e89a2be3cdd",
       "version_major": 2,
       "version_minor": 0
      },
      "text/plain": [
       "VBox()"
      ]
     },
     "metadata": {},
     "output_type": "display_data"
    },
    {
     "data": {
      "application/vnd.jupyter.widget-view+json": {
       "model_id": "",
       "version_major": 2,
       "version_minor": 0
      },
      "text/plain": [
       "FloatProgress(value=0.0, bar_style='info', description='Progress:', layout=Layout(height='25px', width='50%'),…"
      ]
     },
     "metadata": {},
     "output_type": "display_data"
    },
    {
     "name": "stdout",
     "output_type": "stream",
     "text": [
      "Optimal Thershold: 0.2868668028009616"
     ]
    }
   ],
   "source": [
    "# Find the optimal threshold\n",
    "train_summary_LR_remove = best_model_LR_remove.stages[-1].summary\n",
    "f_measure = train_summary_LR_remove.fMeasureByThreshold\n",
    "max_f_measure = f_measure.groupBy().max('F-Measure').select('max(F-Measure)').head()\n",
    "\n",
    "best_threshold_LR_remove = \\\n",
    "f_measure.where(f_measure['F-Measure'] == max_f_measure['max(F-Measure)']) \\\n",
    "         .select('threshold').head()['threshold']\n",
    "\n",
    "print(f'Optimal Thershold: {best_threshold_LR_remove}')"
   ]
  },
  {
   "cell_type": "code",
   "execution_count": 89,
   "id": "9d475be4",
   "metadata": {},
   "outputs": [
    {
     "data": {
      "application/vnd.jupyter.widget-view+json": {
       "model_id": "c83bac5655414ba7bb6857da8e219bc2",
       "version_major": 2,
       "version_minor": 0
      },
      "text/plain": [
       "VBox()"
      ]
     },
     "metadata": {},
     "output_type": "display_data"
    },
    {
     "data": {
      "application/vnd.jupyter.widget-view+json": {
       "model_id": "",
       "version_major": 2,
       "version_minor": 0
      },
      "text/plain": [
       "FloatProgress(value=0.0, bar_style='info', description='Progress:', layout=Layout(height='25px', width='50%'),…"
      ]
     },
     "metadata": {},
     "output_type": "display_data"
    },
    {
     "name": "stdout",
     "output_type": "stream",
     "text": [
      "Logistic Regression (optimal threshold) :\n",
      "+--------+--------+-------+-------+----------+---------+\n",
      "|PR_train|f1_train|PR_test|f1_test|train_time|pred_time|\n",
      "+--------+--------+-------+-------+----------+---------+\n",
      "|  0.7356|  0.8463| 0.7341|  0.847|    4.0846|   0.1498|\n",
      "+--------+--------+-------+-------+----------+---------+"
     ]
    }
   ],
   "source": [
    "# Train and evaluate the model \n",
    "# with the best combination of hyperparameters found by grid search\n",
    "# without less important features\n",
    "# with the optimal threshold\n",
    "classifier_LR_threshold = \\\n",
    "LogisticRegression(labelCol = \"label\", \n",
    "                   featuresCol = \"scaledFeatures\",\n",
    "                   threshold = best_threshold_LR_remove)\n",
    "\n",
    "classifier_LR_threshold.setParams(elasticNetParam = is_L2, regParam = reg_param, maxIter = max_iter)\n",
    "\n",
    "best_model_LR_threshold, eval_metric_LR_threshold, summary_LR_threshold = \\\n",
    "start_train(classifier = classifier_LR_threshold, \\\n",
    "            text = 'Logistic Regression (optimal threshold)',\n",
    "            feature_cols = feature_col_reduced)"
   ]
  },
  {
   "cell_type": "markdown",
   "id": "043aed69",
   "metadata": {},
   "source": [
    "# **Part 4: Final Evaluation (full 12GB dataset)** "
   ]
  },
  {
   "cell_type": "code",
   "execution_count": 90,
   "id": "e0913c37",
   "metadata": {},
   "outputs": [
    {
     "data": {
      "application/vnd.jupyter.widget-view+json": {
       "model_id": "b481499855834b0685bc7601cd6e304d",
       "version_major": 2,
       "version_minor": 0
      },
      "text/plain": [
       "VBox()"
      ]
     },
     "metadata": {},
     "output_type": "display_data"
    },
    {
     "data": {
      "application/vnd.jupyter.widget-view+json": {
       "model_id": "",
       "version_major": 2,
       "version_minor": 0
      },
      "text/plain": [
       "FloatProgress(value=0.0, bar_style='info', description='Progress:', layout=Layout(height='25px', width='50%'),…"
      ]
     },
     "metadata": {},
     "output_type": "display_data"
    }
   ],
   "source": [
    "# Define the classifer for final evaluation\n",
    "classifier_LR_final = \\\n",
    "LogisticRegression(labelCol = \"label\", \n",
    "                   featuresCol = \"scaledFeatures\")"
   ]
  },
  {
   "cell_type": "code",
   "execution_count": 91,
   "id": "fb867348",
   "metadata": {},
   "outputs": [
    {
     "data": {
      "application/vnd.jupyter.widget-view+json": {
       "model_id": "a183de48d7474c158f3b914c05fa459a",
       "version_major": 2,
       "version_minor": 0
      },
      "text/plain": [
       "VBox()"
      ]
     },
     "metadata": {},
     "output_type": "display_data"
    },
    {
     "data": {
      "application/vnd.jupyter.widget-view+json": {
       "model_id": "",
       "version_major": 2,
       "version_minor": 0
      },
      "text/plain": [
       "FloatProgress(value=0.0, bar_style='info', description='Progress:', layout=Layout(height='25px', width='50%'),…"
      ]
     },
     "metadata": {},
     "output_type": "display_data"
    },
    {
     "name": "stdout",
     "output_type": "stream",
     "text": [
      "LogisticRegression_d9687dc09b7f"
     ]
    }
   ],
   "source": [
    "classifier_LR_final.setParams(elasticNetParam = is_L2, regParam = reg_param, maxIter = max_iter)"
   ]
  },
  {
   "cell_type": "code",
   "execution_count": 92,
   "id": "9285857b",
   "metadata": {},
   "outputs": [
    {
     "data": {
      "application/vnd.jupyter.widget-view+json": {
       "model_id": "537765dcb8234fdab6421edcfdb5c70e",
       "version_major": 2,
       "version_minor": 0
      },
      "text/plain": [
       "VBox()"
      ]
     },
     "metadata": {},
     "output_type": "display_data"
    },
    {
     "data": {
      "application/vnd.jupyter.widget-view+json": {
       "model_id": "",
       "version_major": 2,
       "version_minor": 0
      },
      "text/plain": [
       "FloatProgress(value=0.0, bar_style='info', description='Progress:', layout=Layout(height='25px', width='50%'),…"
      ]
     },
     "metadata": {},
     "output_type": "display_data"
    }
   ],
   "source": [
    "# input the more important features only\n",
    "feature_col_reduced =  \\\n",
    "['last_level_bool', 'day_since_registration', 'interaction_per_day', \n",
    " 'song_per_day', 'thump_down_per_day', 'advertisement_per_day', \n",
    " 'setting_per_day', 'error_per_day', 'song_ratio', \n",
    " 'positive_ratio', 'negative_ratio', 'plan_change_num', \n",
    " 'trend_interaction', 'average_song']"
   ]
  },
  {
   "cell_type": "code",
   "execution_count": 93,
   "id": "9b97ed3a",
   "metadata": {},
   "outputs": [
    {
     "data": {
      "application/vnd.jupyter.widget-view+json": {
       "model_id": "aef36e162b354ac0a35380065496f660",
       "version_major": 2,
       "version_minor": 0
      },
      "text/plain": [
       "VBox()"
      ]
     },
     "metadata": {},
     "output_type": "display_data"
    },
    {
     "data": {
      "application/vnd.jupyter.widget-view+json": {
       "model_id": "",
       "version_major": 2,
       "version_minor": 0
      },
      "text/plain": [
       "FloatProgress(value=0.0, bar_style='info', description='Progress:', layout=Layout(height='25px', width='50%'),…"
      ]
     },
     "metadata": {},
     "output_type": "display_data"
    },
    {
     "name": "stdout",
     "output_type": "stream",
     "text": [
      "LogisticRegression_d9687dc09b7f"
     ]
    }
   ],
   "source": [
    "# Adopt the optimal threshold for the train set, which is 0.559\n",
    "classifier_LR_final.setParams(threshold = best_threshold_LR_remove);"
   ]
  },
  {
   "cell_type": "code",
   "execution_count": 95,
   "id": "b99d4e0b",
   "metadata": {},
   "outputs": [
    {
     "data": {
      "application/vnd.jupyter.widget-view+json": {
       "model_id": "be4601f3c603461aa2ea0706dbe60227",
       "version_major": 2,
       "version_minor": 0
      },
      "text/plain": [
       "VBox()"
      ]
     },
     "metadata": {},
     "output_type": "display_data"
    },
    {
     "data": {
      "application/vnd.jupyter.widget-view+json": {
       "model_id": "",
       "version_major": 2,
       "version_minor": 0
      },
      "text/plain": [
       "FloatProgress(value=0.0, bar_style='info', description='Progress:', layout=Layout(height='25px', width='50%'),…"
      ]
     },
     "metadata": {},
     "output_type": "display_data"
    },
    {
     "name": "stdout",
     "output_type": "stream",
     "text": [
      "Logistic Regression (final) :\n",
      "+--------+--------+-------+-------+----------+---------+\n",
      "|PR_train|f1_train|PR_test|f1_test|train_time|pred_time|\n",
      "+--------+--------+-------+-------+----------+---------+\n",
      "|  0.7356|  0.8463| 0.7341|  0.847|    4.7405|   0.1742|\n",
      "+--------+--------+-------+-------+----------+---------+\n",
      "\n",
      "Confusion matrix:\n",
      "+-----+----+---+\n",
      "|label| 0.0|1.0|\n",
      "+-----+----+---+\n",
      "|    0|3880|439|\n",
      "|    1| 418|847|\n",
      "+-----+----+---+\n",
      "\n",
      "Setting for refinement:\n",
      "\n",
      "   -Hyperparameters selected by grid searching:\n",
      "       elasticNetParam:  0.0\n",
      "       regParam:  2e-06\n",
      "       maxIter:  50 \n",
      "\n",
      "   -Optimal Threshold: 0.287 \n",
      "\n",
      "   -The features remain:\n",
      "      last_level_bool\n",
      "      day_since_registration\n",
      "      interaction_per_day\n",
      "      song_per_day\n",
      "      thump_down_per_day\n",
      "      advertisement_per_day\n",
      "      setting_per_day\n",
      "      error_per_day\n",
      "      song_ratio\n",
      "      positive_ratio\n",
      "      negative_ratio\n",
      "      plan_change_num\n",
      "      trend_interaction\n",
      "      average_song"
     ]
    }
   ],
   "source": [
    "# Train the model and evaluate performance\n",
    "\n",
    "best_model_LR_final, eval_metric_LR_final, summary_LR_final = \\\n",
    "start_train(classifier = classifier_LR_final, \\\n",
    "            text = 'Logistic Regression (final)',\n",
    "            feature_cols = feature_col_reduced)\n",
    "\n",
    "# confusion matrix\n",
    "print('Confusion matrix:')\n",
    "eval_metric_LR_final['confusion_matrix_test'].show()\n",
    "\n",
    "\n",
    "print('Setting for refinement:\\n')\n",
    "\n",
    "best_model_stage_3 = best_model_LR_final.stages[2]\n",
    "print('   -Hyperparameters selected by grid searching:')\n",
    "print('       elasticNetParam: ', best_model_stage_3.extractParamMap()[best_model_stage_3.elasticNetParam])\n",
    "print('       regParam: ', best_model_stage_3.extractParamMap()[best_model_stage_3.regParam])\n",
    "print('       maxIter: ', best_model_stage_3.extractParamMap()[best_model_stage_3.maxIter], '\\n')\n",
    "\n",
    "print(f'   -Optimal Threshold: {best_threshold_LR_remove:.3f}', '\\n')\n",
    "\n",
    "print('   -The features remain:')\n",
    "for i in feature_col_reduced:\n",
    "  print(f'      {i}')"
   ]
  },
  {
   "cell_type": "code",
   "execution_count": null,
   "id": "69101239",
   "metadata": {},
   "outputs": [],
   "source": []
  }
 ],
 "metadata": {
  "kernelspec": {
   "display_name": "PySpark",
   "language": "",
   "name": "pysparkkernel"
  },
  "language_info": {
   "codemirror_mode": {
    "name": "python",
    "version": 2
   },
   "mimetype": "text/x-python",
   "name": "pyspark",
   "pygments_lexer": "python2"
  }
 },
 "nbformat": 4,
 "nbformat_minor": 5
}
